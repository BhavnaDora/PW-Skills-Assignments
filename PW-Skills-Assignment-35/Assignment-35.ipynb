{
 "cells": [
  {
   "cell_type": "markdown",
   "id": "86eebac9-f461-4dc8-8883-1381e72d08b3",
   "metadata": {},
   "source": [
    "#### (1)-\n",
    "##### Z test is used when the population standard deviation is known or when the sample size is greater than equal to 30.\n",
    "##### T test is used when the population standard deviation is not known. \n",
    "##### Ex) We will use Z test here- Let’s say we need to determine if girls on average score higher than 600 in the exam. We have the information that the standard deviation for girls’ scores is 100. So, we collect the data of 20 girls by using random samples and record their marks. Finally, we also set our ⍺ value (significance level) to be 0.05. \n",
    "##### We have population standard deviation apart from population mean, sample mean, so we use Z test.\n",
    "##### For the same ex) Let’s say we want to determine if on average girls score more than 600 in the exam. We do not have the information related to variance (or standard deviation) for girls’ scores. To a perform t-test, we randomly collect the data of 10 girls with their marks and choose our ⍺ value (significance level) to be 0.05 for Hypothesis Testing.\n",
    "##### Here we have population mean, sample mean and sample standard deviation but not population standard deviation, so we use T test."
   ]
  },
  {
   "cell_type": "markdown",
   "id": "7b70d527-d3ec-4a48-86df-47de224cf278",
   "metadata": {},
   "source": [
    "#### (2)-\n",
    "##### The one-tailed test refers to a test of null hypothesis, in which the alternative hypothesis is articulated directionally. Here, the critical region lies only on one tail. \n",
    "##### However, if the alternative hypothesis is not exhibited directionally, then it is known as the two-tailed test of the null hypothesis, wherein the critical region is on both the tails. \n",
    "##### One-tailed tests will only have one critical region whereas two-tailed tests will have two critical regions."
   ]
  },
  {
   "cell_type": "markdown",
   "id": "aca91627-3482-456f-948c-f6064b774db5",
   "metadata": {},
   "source": [
    "#### (3)-\n",
    "##### Type 1 error- We reject the Null hypothesis when in reality it is True.\n",
    "\n",
    "##### Type 2 error- We accept the Null hypothesis when in reality it is False.\n",
    "##### Ex) A man undergoes trail for commiting murder of his wife. Here Null hypothesis H0- Man is not guilty. Alternative hypothesis H1- Man is guilty.\n",
    "##### Type 1 error- We reject the Null hypothesis when in reality it is True so, the man is charged for murder when in reality he hasn't commited murder and is not guilty.\n",
    "##### Type 2 error- We accept the Null hypothesis when in reality it is False so, the man is not charged for murder i.e. not guilty when in reality he has murdered and is guilty."
   ]
  },
  {
   "cell_type": "markdown",
   "id": "f634b415-39a6-4937-86f3-fd6970492cb3",
   "metadata": {},
   "source": [
    "#### (4)-\n",
    "##### Bayes's theorem- The Bayes theorem is a mathematical formula for calculating conditional probability in probability and statistics. In other words, it's used to figure out how likely an event is based on its proximity to another. \n",
    "##### P(B|A)= (P(B)* P(A|B))/P(A)\n",
    "##### where P(A|B) is the probability of A occuring, given B is True. P(B) and P(A) are independent probabilities of B and A respectively.\n",
    "##### Ex) A bag A contains 1 white and 6 red balls. Another bag B contains 4 white and 3 red balls. One of the bags is selected at random and a ball is drawn from it, which is found to be white. Find the probability that the ball drawn is from the bag A.\n",
    "##### let the events be E1= choosing bag A, E2= choosing bag B, E= choosing white ball.\n",
    "##### P(E1)= 1/2, P(E2)= 1/2\n",
    "##### P(E/E1)= 1/7, P(E/E2)= 4/7\n",
    "##### We have to find the probability that the white ball drawn is from bag A- P(E1/E) = (P(E1) * P(E/E1)) / (P(E1)* P(E/E1) + P(E2) * P(E/E2))\n",
    "##### P(E1/E)= (1/2 * 1/7)/ (1/2 * 1/7 + 1/2 * 4/7) = 1/5"
   ]
  },
  {
   "cell_type": "markdown",
   "id": "da264c40-49ec-42f2-a206-b14bf6df0b61",
   "metadata": {},
   "source": [
    "#### (5)-\n",
    "##### A confidence interval refers to the interval within which a population parameter will fall for a certain proportion of times. Confidence interval comes into picture because point estimate is not a perfect estimate for unknown population parameter. So, we use interval estimate and this interval is the confidence interval. Confidence interval = point estimate +- (margin of error)"
   ]
  },
  {
   "cell_type": "code",
   "execution_count": 2,
   "id": "30bb2e29-fce9-469a-b725-f224f85baa79",
   "metadata": {},
   "outputs": [
    {
     "name": "stdout",
     "output_type": "stream",
     "text": [
      "lower bound of confidence interval is 498.08653382050204\n",
      "upper bound of confidence interval is 541.913466179498\n"
     ]
    }
   ],
   "source": [
    "# example of calculating confidence interval-\n",
    "# The sample mean CAT score is 520 for 80 test takers with a standard deviation of 100. \n",
    "# Estimate population mean with 95% confidence interval\n",
    "\n",
    "import numpy as np\n",
    "sample_mean= 520\n",
    "sample_std= 100\n",
    "n= 80             # this is sample size\n",
    "CI= 0.95\n",
    "significance_level= 1-CI\n",
    "\n",
    "# Z score from Z table for significance level 0.05 i.e AUC= 0.025 is-\n",
    "z= 1.96         # i.e z = +- 1.96 \n",
    "\n",
    "# calculating margin of error-\n",
    "MOE= 1.96* (sample_std/np.sqrt(n))\n",
    "\n",
    "# calculating lower and upper bounds of confidence interval within which population mean will lie, we are 95% confident about it\n",
    "lower_bound= sample_mean - MOE\n",
    "print(\"lower bound of confidence interval is\", lower_bound)\n",
    "upper_bound= sample_mean + MOE\n",
    "print(\"upper bound of confidence interval is\", upper_bound)"
   ]
  },
  {
   "cell_type": "markdown",
   "id": "202ebbe9-17d7-49f2-bfcf-f5be47467173",
   "metadata": {},
   "source": [
    "#### (6)-\n",
    "##### sample problem- An insurance company insured 2000 scooter drivers, 4000 car drivers, and 6000 truck drivers. The probability of an accident involving a scooter driver, car driver, and a truck driver is 0.01, 0.03, and 0.15 respectively. One of the insured persons meets with an accident. What is the probability that he is a scooter driver?"
   ]
  },
  {
   "cell_type": "markdown",
   "id": "2e36a5e9-e67d-43cb-836a-56d3096859fb",
   "metadata": {},
   "source": [
    "##### using Bayes's theorem we will solve this- let us define the events as- \n",
    "##### E1= person is scooter driver\n",
    "##### E2= person is car driver\n",
    "##### E3= person is truck driver\n",
    "##### A= person meets with accident\n",
    "##### Now, probability of insured person being scooter driver is P(E1)= 2000/12000= 1/6 \n",
    "##### Probability of insured person being car driver is P(E2)= 4000/12000= 1/3\n",
    "##### Probability of insured person being truck driver is P(E3)= 6000/12000= 1/2\n",
    "##### Given, Probability of accident involving scooter driver is P(A|E1)= 0.01\n",
    "##### Given, Probability of accident involving car driver is P(A|E2)= 0.03\n",
    "##### Given, Probability of accident involving truck driver is P(A|E3)= 0.15\n",
    "##### We have to find the probability of a scooter driver being in accident i.e. accident has occured and what is the probability of that person being a scooter driver P(E1|A)= P(E1)* P(A|E1)/(P(E1)* P(A|E1) + P(E2)* P(A|E2) + P(E3)* P(A|E3))\n",
    "##### P(E1|A)= (1/6* 0.01)/(1/6* 0.01 + 1/3* 0.03 + 1/2* 0.15) = 0.001666/0.019156 = 0.0192"
   ]
  },
  {
   "cell_type": "markdown",
   "id": "bfba98c0-d8eb-4dbc-a141-9ffee507fa78",
   "metadata": {},
   "source": [
    "#### (7)-"
   ]
  },
  {
   "cell_type": "code",
   "execution_count": 3,
   "id": "eb0c6bf6-220e-4d7f-aedc-1e0579bfd603",
   "metadata": {},
   "outputs": [
    {
     "name": "stdout",
     "output_type": "stream",
     "text": [
      "lower bound of confidence interval is 48.21077297881646\n",
      "upper bound of confidence interval is 51.78922702118354\n"
     ]
    }
   ],
   "source": [
    "sample_mean= 50\n",
    "sample_std= 5\n",
    "n= 30\n",
    "CI= 0.95\n",
    "significance_level= 0.05\n",
    "\n",
    "# Z score from Z table for significance level 0.05 i.e AUC= 0.025 is-\n",
    "z= 1.96         # i.e z = +- 1.96 \n",
    "\n",
    "# calculating margin of error-\n",
    "MOE= 1.96* (sample_std/np.sqrt(n))\n",
    "\n",
    "# calculating lower and upper bounds of confidence interval within which population mean will lie, we are 95% confident about it\n",
    "lower_bound= sample_mean - MOE\n",
    "print(\"lower bound of confidence interval is\", lower_bound)\n",
    "upper_bound= sample_mean + MOE\n",
    "print(\"upper bound of confidence interval is\", upper_bound)"
   ]
  },
  {
   "cell_type": "markdown",
   "id": "ba1221ed-0cac-482e-8c2c-ea6f3e69f2c8",
   "metadata": {},
   "source": [
    "#### (8)-\n",
    "##### Margin of error is nothing but the confidence interval and it extends equally on both sides of the mean. So,      2* margin of error = confidence interval. A margin of error tells you how many percentage points your results will differ from the real population parameter. The smaller the margin of error, the more confidence we may have in our results. The bigger the margin of error, the farther they can stray from the views of the total population. \n",
    "##### Greater the sample size n, smaller will be the margin of error because MOE= Z-score * std/sqrt(n). So, they share an inverse relationship."
   ]
  },
  {
   "cell_type": "code",
   "execution_count": 5,
   "id": "e749b7dc-483a-4edf-bf70-866cb197e475",
   "metadata": {},
   "outputs": [
    {
     "name": "stdout",
     "output_type": "stream",
     "text": [
      "margin of error is 1.7892270211835426 when sample size is 30\n",
      "margin of error is 0.98 when sample size is 100\n"
     ]
    }
   ],
   "source": [
    "# Example- \n",
    "n1= 30\n",
    "sample_mean= 50\n",
    "sample_std= 5\n",
    "CI= 0.95\n",
    "significance_level= 0.05\n",
    "\n",
    "## Z score from Z table for significance level 0.05 i.e AUC= 0.025 is-\n",
    "z= 1.96         # i.e z = +- 1.96 \n",
    "\n",
    "#calculating margin of error-\n",
    "MOE1= 1.96* (sample_std/np.sqrt(n1))\n",
    "print(\"margin of error is {} when sample size is {}\".format(MOE1, n1))\n",
    "\n",
    "# taking a bigger sample size and keeping rest all same-\n",
    "n2= 100\n",
    "\n",
    "#calculating margin of error-\n",
    "MOE2= 1.96* (sample_std/np.sqrt(n2))\n",
    "print(\"margin of error is {} when sample size is {}\".format(MOE2, n2))"
   ]
  },
  {
   "cell_type": "markdown",
   "id": "7ff81d53-42ed-4a20-9aaf-6134373632fa",
   "metadata": {},
   "source": [
    "#### (9)-"
   ]
  },
  {
   "cell_type": "code",
   "execution_count": 6,
   "id": "080535d9-1bd2-4667-9cef-5ffd7173ca77",
   "metadata": {},
   "outputs": [
    {
     "name": "stdout",
     "output_type": "stream",
     "text": [
      "the z score for the data point 75 is 1.0\n"
     ]
    }
   ],
   "source": [
    "x= 75\n",
    "population_mean= 70\n",
    "population_std= 5\n",
    "z_score= (x-population_mean)/population_std\n",
    "print(\"the z score for the data point {} is {}\".format(x, z_score))"
   ]
  },
  {
   "cell_type": "markdown",
   "id": "810d9445-7a1b-41d0-952e-424249f9256c",
   "metadata": {},
   "source": [
    "##### z_score of 1 signifies that how many standard devaitions away from the mean that point lies. So, the point 75 is 1 standard deviation from the mean."
   ]
  },
  {
   "cell_type": "markdown",
   "id": "1967b6bf-9adb-4f77-a644-dbe7b1653de4",
   "metadata": {},
   "source": [
    "#### (10)-\n",
    "##### Null hypothesis(H0)- The drug is not effective i.e. no weight loss so, mean= 0\n",
    "##### Alternate hypothesis(H1)- The drug is effective i.e. weight loss happens so, mean != 0 It is observed that the mean weight loss is 6 pounds. We will use 2 tail T test."
   ]
  },
  {
   "cell_type": "code",
   "execution_count": 9,
   "id": "c64bb739-4bec-4a64-b0ae-21de1926ad08",
   "metadata": {},
   "outputs": [
    {
     "name": "stdout",
     "output_type": "stream",
     "text": [
      "t score from t stats 16.970562748477143\n",
      "Reject Null hypothesis\n"
     ]
    }
   ],
   "source": [
    "import numpy as np\n",
    "population_mean= 0\n",
    "sample_mean= 6\n",
    "sample_std= 2.5\n",
    "n= 50\n",
    "CI= 0.95\n",
    "significance_value= 0.05\n",
    "df= n-1            # this is the degree of freedom\n",
    "\n",
    "# calculating the critical values on both tails-\n",
    "# corresponding to significance value 0.05, and df= 49 in the 2 tail t test table, we get-\n",
    "t1= 2.0096    # i.e. t1= +- 2.0096\n",
    "\n",
    "# calculating t value from t stats-\n",
    "t2= (sample_mean-population_mean)/(sample_std/np.sqrt(n))\n",
    "print(\"t score from t stats\", t2)\n",
    "\n",
    "# checking if we accept or reject null hypothesis-\n",
    "if t2 > t1:\n",
    "    print(\"Reject Null hypothesis\")\n",
    "else:\n",
    "    print(\"Fail to reject Null hypothesis\")"
   ]
  },
  {
   "cell_type": "markdown",
   "id": "433ac0e9-683c-4baf-a9f6-0ce17d59b94a",
   "metadata": {},
   "source": [
    "##### So, the new drug worked and the average loss in weight is 6 pounds"
   ]
  },
  {
   "cell_type": "markdown",
   "id": "dd3eb300-f22b-4c8c-aaf0-d2953a4398ab",
   "metadata": {},
   "source": [
    "#### (11)-\n",
    "##### As it is a proportion problem, so the distribution is binomial. p is the probability of success and q=1-p is the probablity of failure."
   ]
  },
  {
   "cell_type": "code",
   "execution_count": 11,
   "id": "efb22446-db42-4f23-bfe9-0a0a1294ee5e",
   "metadata": {},
   "outputs": [
    {
     "name": "stdout",
     "output_type": "stream",
     "text": [
      "Error bound for proportion is 0.04180822885509502\n",
      "lower bound of confidence interval is 0.608191771144905\n",
      "upper bound of confidence interval is 0.6918082288550951\n"
     ]
    }
   ],
   "source": [
    "n= 500       # this is the sample size\n",
    "CI= 0.95\n",
    "significance_level= 1-CI\n",
    "# the no. of people satisfied with their current job is 65% of n-\n",
    "x= 0.65*n \n",
    "\n",
    "# the estimated proportion of successes i.e. probability of success-\n",
    "p_prime= x/n\n",
    "q_prime= 1-p_prime      # probability of failure\n",
    "\n",
    "# Z score from z table corresponding to significance level = 0.05 i.e. AUC= 0.025 is \n",
    "z= 1.96       # i.e. z= +-1.96\n",
    "\n",
    "# calculating error bound for proportion-\n",
    "EBP= z* (np.sqrt(p_prime*q_prime)/np.sqrt(n))\n",
    "print(\"Error bound for proportion is\", EBP)\n",
    "\n",
    "# calculating lower and upper bound of confidence interval for true proportion-\n",
    "lower_bound= p_prime - EBP\n",
    "print(\"lower bound of confidence interval is\", lower_bound)\n",
    "upper_bound= p_prime + EBP\n",
    "print(\"upper bound of confidence interval is\", upper_bound)"
   ]
  },
  {
   "cell_type": "markdown",
   "id": "9337c489-4925-4757-a9e9-c6bcf015a38c",
   "metadata": {},
   "source": [
    "##### so, the confidence interval for the true proportion of people who are satisfied with their job is from 0.608 to 0.692, we are 95% confident about it."
   ]
  },
  {
   "cell_type": "markdown",
   "id": "427751ba-5262-4fcc-bcef-636e6b20312b",
   "metadata": {},
   "source": [
    "#### (12)-\n",
    "##### we will use a 2 sample T test. We can use that because the variances of the 2 groups are similar i.e. the ratio of variances is less than 4:1. We have to compare if the 2 teaching methods have a significant difference in student performance i.e. we compare the means of the two groups.\n",
    "##### Null hypothesis(H0)- The means of 2 groups are equal i.e. mean1= mean2\n",
    "##### Alternate hypothesis(H1)- The means of 2 groups are not equal i.e. mean1 != mean2"
   ]
  },
  {
   "cell_type": "code",
   "execution_count": 12,
   "id": "ba3bc29b-e8df-46ea-a2fa-fd879e711496",
   "metadata": {},
   "outputs": [
    {
     "name": "stdout",
     "output_type": "stream",
     "text": [
      "the t value of 2 sample t test is 2.10386061995483\n"
     ]
    }
   ],
   "source": [
    "# let us consider sample size = 30 for both groups\n",
    "import numpy as np\n",
    "n1= 30\n",
    "n2= 30\n",
    "sample_mean1= 85\n",
    "sample_std1= 6\n",
    "sample_mean2= 82\n",
    "sample_std2= 5\n",
    "significance_level= 0.01\n",
    "\n",
    "# calculating difference of averages-\n",
    "diff_of_means= sample_mean1 - sample_mean2\n",
    "\n",
    "# calculating pooled variance and standard deviation-\n",
    "pooled_var= (sample_std1**2 + sample_std2**2)/2\n",
    "pooled_std= np.sqrt(pooled_var)\n",
    "\n",
    "# calculating t score of 2 sample t test stats-\n",
    "t= diff_of_means/ (pooled_std * np.sqrt((1/n1) + (1/n2)))\n",
    "print(\"the t value of 2 sample t test is\", t)"
   ]
  },
  {
   "cell_type": "code",
   "execution_count": 13,
   "id": "e2b9364a-7232-4b22-80a1-880fe02e43ec",
   "metadata": {},
   "outputs": [
    {
     "data": {
      "text/plain": [
       "58"
      ]
     },
     "execution_count": 13,
     "metadata": {},
     "output_type": "execute_result"
    }
   ],
   "source": [
    "tot_df= (n1-1)+(n2-1)\n",
    "tot_df"
   ]
  },
  {
   "cell_type": "code",
   "execution_count": 14,
   "id": "027c1c41-127a-4fea-83f6-891bb8e1b0ac",
   "metadata": {},
   "outputs": [
    {
     "name": "stdout",
     "output_type": "stream",
     "text": [
      "Fail to reject Null hypothesis\n"
     ]
    }
   ],
   "source": [
    "# using the total degree of freedom and significance level for 2 tailed test in the t table we get t value as-\n",
    "t_table_value= 2.6633\n",
    "\n",
    "# checking if we accept or reject null hypothesis- \n",
    "if t > t_table_value:\n",
    "    print(\"Reject Null hypothesis\")\n",
    "else:\n",
    "    print(\"Fail to reject Null hypothesis\")"
   ]
  },
  {
   "cell_type": "markdown",
   "id": "63a9980a-06cf-446e-b18c-723339f2d4d1",
   "metadata": {},
   "source": [
    "##### So, the t value lies in the acceptance area and we fail to reject the null hypothesis, thus the means of 2 groups are equal and there is no significant difference in student performance for the 2 methods of teaching"
   ]
  },
  {
   "cell_type": "markdown",
   "id": "16baa07e-ceaa-47ce-a54d-c3454e146a3f",
   "metadata": {},
   "source": [
    "#### (13)-"
   ]
  },
  {
   "cell_type": "code",
   "execution_count": 15,
   "id": "bb4e3374-a57c-4cde-9f4a-f507d4353224",
   "metadata": {},
   "outputs": [
    {
     "name": "stdout",
     "output_type": "stream",
     "text": [
      "The margin of error is 1.8554481938335006\n",
      "lower bound of confidence interval is 63.1445518061665\n",
      "upper bound of confidence interval is 66.8554481938335\n"
     ]
    }
   ],
   "source": [
    "import numpy as np\n",
    "population_mean= 60\n",
    "population_std= 8\n",
    "sample_mean= 65\n",
    "n= 50         # this is sample size\n",
    "CI= 0.90\n",
    "significance_level= 1-CI\n",
    "\n",
    "# z score from z table corresponding to significance level = 0.10 i.e. AUC= 0.05 is- \n",
    "z= 1.64         # i.e. z= +- 1.64\n",
    "\n",
    "# calculating margin of error-\n",
    "MOE= z* (population_std/np.sqrt(n))\n",
    "print(\"The margin of error is\", MOE)\n",
    "\n",
    "# calculating lower and upper bounds of confidence interval within which true population mean will lie, we are 90% confident about it-\n",
    "lower_bound= sample_mean - MOE\n",
    "print(\"lower bound of confidence interval is\", lower_bound)\n",
    "upper_bound= sample_mean + MOE\n",
    "print(\"upper bound of confidence interval is\", upper_bound)"
   ]
  },
  {
   "cell_type": "markdown",
   "id": "276b76c6-028c-4fc9-a6b0-beac8da4a839",
   "metadata": {},
   "source": [
    "#### (14)-\n",
    "##### Null hypothesis(H0)- The caffiene has no significant effect on reaction time i.e. mean = 0\n",
    "##### Alternate hypothesis(H1)- caffiene has effect on reaction time i.e mean != 0 It is observed that the average reaction time was 0.25 seconds.\n",
    "##### We conduct a 2 tailed t test"
   ]
  },
  {
   "cell_type": "code",
   "execution_count": 16,
   "id": "77908386-abec-47a8-a761-a98f6815f607",
   "metadata": {},
   "outputs": [
    {
     "name": "stdout",
     "output_type": "stream",
     "text": [
      "t value from t stats is 27.386127875258307\n",
      "Reject Null hypothesis\n"
     ]
    }
   ],
   "source": [
    "import numpy as np\n",
    "population_mean= 0\n",
    "n= 30\n",
    "sample_mean= 0.25\n",
    "sample_std= 0.05\n",
    "CI= 0.90\n",
    "significance_level= 1-CI\n",
    "df= n-1\n",
    "\n",
    "# from t table (2 tailed), the t value corresponding to significance level = 0.10 and degree of freedom = 29 is-\n",
    "t_table_value= 1.699        # i.e. t = +- 1.699\n",
    "\n",
    "# calculating t value from t stats-\n",
    "t= (sample_mean - population_mean)/(sample_std/np.sqrt(n))\n",
    "print(\"t value from t stats is\", t)\n",
    "\n",
    "# checking if we accept or reject null hypothesis-\n",
    "if t > t_table_value:\n",
    "    print(\"Reject Null hypothesis\")\n",
    "else:\n",
    "    print(\"Fail to reject Null hypothesis\")"
   ]
  },
  {
   "cell_type": "markdown",
   "id": "aef4d866-8aad-4e39-a5aa-b023e9051685",
   "metadata": {},
   "source": [
    "##### The t value from t stats lies in the rejection area, so Null hypothesis is rejected which means caffeine has significant effect on reaction time and it is 0.25 seconds."
   ]
  },
  {
   "cell_type": "code",
   "execution_count": null,
   "id": "dd03bbbf-85f2-40b7-8972-691c12f78a03",
   "metadata": {},
   "outputs": [],
   "source": []
  }
 ],
 "metadata": {
  "kernelspec": {
   "display_name": "Python 3 (ipykernel)",
   "language": "python",
   "name": "python3"
  },
  "language_info": {
   "codemirror_mode": {
    "name": "ipython",
    "version": 3
   },
   "file_extension": ".py",
   "mimetype": "text/x-python",
   "name": "python",
   "nbconvert_exporter": "python",
   "pygments_lexer": "ipython3",
   "version": "3.10.8"
  }
 },
 "nbformat": 4,
 "nbformat_minor": 5
}
