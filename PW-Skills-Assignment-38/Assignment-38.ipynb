{
 "cells": [
  {
   "cell_type": "markdown",
   "id": "30c7526a-57f5-4e61-a8fb-2d4a494a36eb",
   "metadata": {},
   "source": [
    "#### (1)-"
   ]
  },
  {
   "cell_type": "code",
   "execution_count": 2,
   "id": "528b4194-c9b6-4064-a5a4-54b9b736b8e8",
   "metadata": {},
   "outputs": [
    {
     "name": "stdout",
     "output_type": "stream",
     "text": [
      "the f value for variance ratio test is 24.679245283018858\n",
      "the p value is 0.004431318383760985\n"
     ]
    }
   ],
   "source": [
    "import numpy as np\n",
    "import scipy.stats as stat\n",
    "\n",
    "def f_test_function(x,y):\n",
    "    f= np.var(x)/np.var(y)\n",
    "    df1= len(x)-1\n",
    "    df2= len(y)-1\n",
    "    critical_value= stat.f.ppf(q= 1-significance_level, dfn=df1, dfd=df2)\n",
    "    p= 1- stat.f.cdf(f,df1,df2)\n",
    "    return f, p\n",
    "\n",
    "x= np.array([0.28, 0.2, 0.26, 0.28, 0.5])\n",
    "y= np.array([0.2, 0.23, 0.26, 0.21, 0.23])\n",
    "significance_level= 0.05\n",
    "f_value, p_value= f_test_function(x,y)\n",
    "print(\"the f value for variance ratio test is\", f_value)\n",
    "print(\"the p value is\", p_value)"
   ]
  },
  {
   "cell_type": "markdown",
   "id": "55b9590a-a1e1-4267-99c6-c853e6577cc9",
   "metadata": {},
   "source": [
    "#### (2)-"
   ]
  },
  {
   "cell_type": "code",
   "execution_count": 5,
   "id": "915b3dcb-2f4e-432e-b725-0931a3541bcd",
   "metadata": {},
   "outputs": [
    {
     "name": "stdout",
     "output_type": "stream",
     "text": [
      "the critical f value is 3.3471631202339784\n"
     ]
    }
   ],
   "source": [
    "import scipy.stats as stat\n",
    "\n",
    "def critical_f_value(df1,df2):\n",
    "    df_numerator= df1\n",
    "    df_denominator= df2\n",
    "    significance_level= 0.05\n",
    "    confidence_level= 1- significance_level\n",
    "    critical_val= stat.f.ppf(q= confidence_level, dfn= df_numerator, dfd= df_denominator)\n",
    "    return critical_val\n",
    "\n",
    "critical_value= critical_f_value(10,8)\n",
    "print(\"the critical f value is\", critical_value)"
   ]
  },
  {
   "cell_type": "markdown",
   "id": "bdd19bef-091e-4bc6-ada5-0b0f9d8c66f5",
   "metadata": {},
   "source": [
    "#### (3)-"
   ]
  },
  {
   "cell_type": "code",
   "execution_count": 7,
   "id": "aecf6d30-efa4-492a-9a41-3407e3eb0b16",
   "metadata": {},
   "outputs": [],
   "source": [
    "import scipy.stats as stat\n",
    "import numpy as np\n",
    "\n",
    "def f_test():\n",
    "    x= np.random.normal(0,1,50)\n",
    "    y= np.random.normal(0,2,50)\n",
    "    var_x= np.var(x)\n",
    "    var_y= np.var(y)\n",
    "    f_test_value= var_x/var_y\n",
    "    df1= len(x)-1\n",
    "    df2= len(y)-1\n",
    "    significance_level= 0.05\n",
    "    p= 1- stat.f.cdf(f_test_value, df1, df2)\n",
    "    return f_test_value, df1, df2, p"
   ]
  },
  {
   "cell_type": "code",
   "execution_count": 8,
   "id": "cdf96b19-f056-4f44-894f-9f83c053a307",
   "metadata": {},
   "outputs": [
    {
     "name": "stdout",
     "output_type": "stream",
     "text": [
      "The F value is 0.26642336423646346\n",
      "The p value is 0.9999957749624624\n",
      "Accept Null hypothesis i.e. the variances of both samples are same\n"
     ]
    }
   ],
   "source": [
    "F_value, dof1, dof2, p_value= f_test()\n",
    "print(\"The F value is\", F_value)\n",
    "print(\"The p value is\", p_value)\n",
    "\n",
    "if p_value < significance_level:\n",
    "    print(\"Reject Null hypothesis i.e. the variances of both samples are not equal\")\n",
    "else:\n",
    "    print(\"Accept Null hypothesis i.e. the variances of both samples are same\")"
   ]
  },
  {
   "cell_type": "markdown",
   "id": "63d3882a-5dc2-49eb-b0ac-37b8f6ca06b2",
   "metadata": {},
   "source": [
    "#### (4)-\n",
    "##### Null hypothesis(H0)- The variances of the 2 populations are same\n",
    "##### Alternate hypothesis(H1)- The variances of the 2 populations are significantly different"
   ]
  },
  {
   "cell_type": "code",
   "execution_count": 10,
   "id": "9a754691-ada3-4008-a6cc-0d03bf6755c4",
   "metadata": {},
   "outputs": [
    {
     "name": "stdout",
     "output_type": "stream",
     "text": [
      "the f test value i.e ratio of variances is 1.5\n",
      "the critical value is 2.8179304699530863\n",
      "Accept Null hypothesis\n"
     ]
    }
   ],
   "source": [
    "import numpy as np\n",
    "import scipy.stats as stat\n",
    "\n",
    "var1= 10\n",
    "var2= 15\n",
    "n1= 12        # sample size of group1\n",
    "n2= 12        # sample size of group2\n",
    "df1= n1-1     # degree of freedom of group1\n",
    "df2= n2-1     # degree of freedom of group2\n",
    "significance_level= 0.05\n",
    "confidence_level= 1- significance_level\n",
    "\n",
    "# calculating f value-\n",
    "f_value= var2/var1\n",
    "print(\"the f test value i.e ratio of variances is\", f_value)\n",
    "\n",
    "# calculating critical value-\n",
    "critical_value= stat.f.ppf(q= confidence_level, dfn= df1, dfd= df2)\n",
    "print(\"the critical value is\", critical_value)\n",
    "\n",
    "# checking to accept or reject Null hypothesis-\n",
    "if f_value < critical_value:\n",
    "    print(\"Accept Null hypothesis\")\n",
    "else:\n",
    "    print(\"Reject Null hypothesis\")"
   ]
  },
  {
   "cell_type": "markdown",
   "id": "24815039-3c3f-4d6c-b07e-61d363102298",
   "metadata": {},
   "source": [
    "#### (5)-\n",
    "##### Null hypothesis(H0)- The variances of diameters are equal and is 0.005\n",
    "##### Alternate hypothesis(H1)- The variances are unequal."
   ]
  },
  {
   "cell_type": "code",
   "execution_count": 2,
   "id": "7520554c-a945-41ae-a33b-4e313f82dac5",
   "metadata": {},
   "outputs": [
    {
     "name": "stdout",
     "output_type": "stream",
     "text": [
      "the f value i.e. ratio of variances is 1.2\n",
      "the p-value is 1.0\n",
      "Accept Null hypothesis i.e. the variances of diameters is 0.005 thus manufacturer's claim is justified\n"
     ]
    }
   ],
   "source": [
    "import scipy.stats as stat\n",
    "import numpy as np\n",
    "\n",
    "sample_var= 0.006\n",
    "hypo_var= 0.005\n",
    "n= 25             # this is sample size\n",
    "significance_level= 0.01\n",
    "\n",
    "f_value= sample_var/hypo_var\n",
    "print(\"the f value i.e. ratio of variances is\", f_value)\n",
    "\n",
    "#calculating p value-\n",
    "p_value= 1- stat.f.cdf(f_value, n-1, np.inf)\n",
    "print(\"the p-value is\", p_value)\n",
    "\n",
    "if p_value < significance_level:\n",
    "    print(\"Reject Null hypothesis i.e. the variance of diameter is not 0.005 thus manufacturer's claim is not justified\")\n",
    "else:\n",
    "    print(\"Accept Null hypothesis i.e. the variances of diameters is 0.005 thus manufacturer's claim is justified\")"
   ]
  },
  {
   "cell_type": "markdown",
   "id": "de07b826-d381-44e5-b9d2-5a59a2ec4d79",
   "metadata": {},
   "source": [
    "#### (6)-"
   ]
  },
  {
   "cell_type": "code",
   "execution_count": 6,
   "id": "fafedb9f-67c4-4292-95c1-3952258f57aa",
   "metadata": {},
   "outputs": [
    {
     "name": "stdout",
     "output_type": "stream",
     "text": [
      "the mean of the F-distribution is 1.3333333333333333\n",
      "the variance of the F-distribution is 1.9555555555555555\n"
     ]
    }
   ],
   "source": [
    "def f_distribution(dfn, dfd):\n",
    "    m= dfd/(dfd-2)\n",
    "    var= (2*(dfd**2)*(dfn+dfd- 2))/ (dfn*((dfd-2)**2)*(dfd-4))\n",
    "    return (m, var)\n",
    "\n",
    "mean, variance= f_distribution(5,8)\n",
    "print(\"the mean of the F-distribution is\", mean)\n",
    "print(\"the variance of the F-distribution is\", variance)"
   ]
  },
  {
   "cell_type": "markdown",
   "id": "50848068-6274-42b8-a0e7-fb7c464cea28",
   "metadata": {},
   "source": [
    "#### (7)-\n",
    "##### Null hypothesis(H0)- The variances of the two samples are equal\n",
    "##### Alternate hypothesis(H1)- The variances of the samples are significantly different"
   ]
  },
  {
   "cell_type": "code",
   "execution_count": 7,
   "id": "d4822434-03f3-4e0d-a2e5-16011590411a",
   "metadata": {},
   "outputs": [
    {
     "name": "stdout",
     "output_type": "stream",
     "text": [
      "the f value is 1.25\n",
      "the critical value is 3.1022133943833694\n",
      "Fail to reject Null hypothesis\n"
     ]
    }
   ],
   "source": [
    "import numpy as np\n",
    "import scipy.stats as stat\n",
    "\n",
    "n1= 10\n",
    "var1= 25\n",
    "n2= 15\n",
    "var2= 20\n",
    "significance_level= 0.1\n",
    "confidence_level= 1-significance_level\n",
    "df1= n1=1\n",
    "df2= n2-1\n",
    "\n",
    "# calculating f test value which is the ratio of variances-\n",
    "f_value= var1/var2\n",
    "print(\"the f value is\", f_value)\n",
    "\n",
    "# calculating critical value-\n",
    "critical_value= stat.f.ppf(q= confidence_level, dfn= df1, dfd= df2)\n",
    "print(\"the critical value is\", critical_value)\n",
    "\n",
    "# checking whether to accept or reject null hypothesis-\n",
    "if f_value < critical_value:\n",
    "    print(\"Fail to reject Null hypothesis\")\n",
    "else:\n",
    "    print(\"Reject Null hypothesis\")"
   ]
  },
  {
   "cell_type": "markdown",
   "id": "f685e1ed-e065-4d62-9c61-64101e1b98db",
   "metadata": {},
   "source": [
    "#### (8)-\n",
    "##### Null hypothesis(H0)- The variances are similar\n",
    "##### Alternate hypothesis(H1)- The variances are significantly different."
   ]
  },
  {
   "cell_type": "code",
   "execution_count": 8,
   "id": "be23785f-b7ee-4508-9be8-90aa8976e797",
   "metadata": {},
   "outputs": [
    {
     "name": "stdout",
     "output_type": "stream",
     "text": [
      "f test value is 1.496767651159843\n",
      "critical value is 4.950288068694318\n",
      "Fail to reject Null hypothesis\n"
     ]
    }
   ],
   "source": [
    "import numpy as np\n",
    "import scipy.stats as stat\n",
    "\n",
    "A= [24, 25, 28, 23, 22, 20, 27]\n",
    "B= [31, 33, 35, 30, 32, 36]\n",
    "var_A= np.var(A)\n",
    "var_B= np.var(B)\n",
    "df_A= len(A)-1\n",
    "df_B= len(B)-1\n",
    "significance_level= 0.05\n",
    "confidence_level= 1-significance_level\n",
    "\n",
    "# calculating f test value i.e. ratio of variances-\n",
    "f_value= var_A/var_B\n",
    "print(\"f test value is\", f_value)\n",
    "\n",
    "# calculating critical value-\n",
    "critical_value= stat.f.ppf(q= confidence_level, dfn= df_A, dfd= df_B)\n",
    "print(\"critical value is\", critical_value)\n",
    "\n",
    "#checking whether to accept or reject null hypothesis-\n",
    "if f_value < critical_value:\n",
    "    print(\"Fail to reject Null hypothesis\")\n",
    "else:\n",
    "    print(\"Reject Null hypothesis\")"
   ]
  },
  {
   "cell_type": "markdown",
   "id": "915982eb-6e95-43bf-9983-bfee38d62cf6",
   "metadata": {},
   "source": [
    "#### (9)-\n",
    "##### Null hypothesis(H0)- The variances are similar\n",
    "##### Alternate hypothesis(H1)- The variances are significantly different."
   ]
  },
  {
   "cell_type": "code",
   "execution_count": 9,
   "id": "8296dc51-b06c-437c-98af-872a8f15da6a",
   "metadata": {},
   "outputs": [
    {
     "name": "stdout",
     "output_type": "stream",
     "text": [
      "f test value is 1.9442622950819677\n",
      "critical value is 10.967020650907992\n",
      "Fail to reject Null hypothesis\n"
     ]
    }
   ],
   "source": [
    "import numpy as np\n",
    "import scipy.stats as stat\n",
    "\n",
    "group_A= [80, 85, 90, 92, 87, 83]\n",
    "group_B= [75, 78, 82, 79, 81, 84]\n",
    "var_A= np.var(group_A)\n",
    "var_B= np.var(group_B)\n",
    "df_A= len(group_A)-1\n",
    "df_B= len(group_B)-1\n",
    "significance_level= 0.01\n",
    "confidence_level= 1-significance_level\n",
    "\n",
    "#calculating f test value i.e. ratio of variances-\n",
    "f_value= var_A/var_B\n",
    "print(\"f test value is\", f_value)\n",
    "\n",
    "# calculating critical value-\n",
    "critical_value= stat.f.ppf(q= confidence_level, dfn= df_A, dfd= df_B)\n",
    "print(\"critical value is\", critical_value)\n",
    "\n",
    "#checking whether to accept or reject null hypothesis-\n",
    "if f_value < critical_value:\n",
    "    print(\"Fail to reject Null hypothesis\")\n",
    "else:\n",
    "    print(\"Reject Null hypothesis\")"
   ]
  },
  {
   "cell_type": "code",
   "execution_count": null,
   "id": "c2f20f7c-7a53-4b9a-aed9-0e5598273609",
   "metadata": {},
   "outputs": [],
   "source": []
  }
 ],
 "metadata": {
  "kernelspec": {
   "display_name": "Python 3 (ipykernel)",
   "language": "python",
   "name": "python3"
  },
  "language_info": {
   "codemirror_mode": {
    "name": "ipython",
    "version": 3
   },
   "file_extension": ".py",
   "mimetype": "text/x-python",
   "name": "python",
   "nbconvert_exporter": "python",
   "pygments_lexer": "ipython3",
   "version": "3.10.8"
  }
 },
 "nbformat": 4,
 "nbformat_minor": 5
}
