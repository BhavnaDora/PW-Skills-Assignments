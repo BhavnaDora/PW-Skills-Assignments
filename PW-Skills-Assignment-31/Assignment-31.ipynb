{
 "cells": [
  {
   "cell_type": "markdown",
   "id": "d0c4f922-4ff8-4658-9d24-ddb7d2ec4fab",
   "metadata": {},
   "source": [
    "#### (1)-\n",
    "##### The 3 measures of central tendency are- Mean, Median, Mode"
   ]
  },
  {
   "cell_type": "markdown",
   "id": "f8e9a643-415c-460f-a27a-5430d9d09eb4",
   "metadata": {},
   "source": [
    "#### (2)-\n",
    "##### Measures of central tendency talk about the central part of distribution where most of our data is situated. Mean finds the average of the dataset. Median gives the central element of the dataset after sorting. Mode gives that element of the dataset which has the highest frequency. All these give the central element in a symmetrically distributed dataset."
   ]
  },
  {
   "cell_type": "markdown",
   "id": "8b92f49a-143d-42c4-b9fc-8fc9f27be8e6",
   "metadata": {},
   "source": [
    "#### (3)-"
   ]
  },
  {
   "cell_type": "code",
   "execution_count": 1,
   "id": "708ffb8c-11a2-4f91-95f1-875592f85111",
   "metadata": {},
   "outputs": [],
   "source": [
    "lst= [178,177,176,177,178.2,178,175,179,180,175,178.9,176.2,177,172.5,178,176.5]"
   ]
  },
  {
   "cell_type": "code",
   "execution_count": 2,
   "id": "f6558679-7431-4dfe-a24d-ae4800363ba5",
   "metadata": {},
   "outputs": [
    {
     "data": {
      "text/plain": [
       "177.01875"
      ]
     },
     "execution_count": 2,
     "metadata": {},
     "output_type": "execute_result"
    }
   ],
   "source": [
    "# Mean-\n",
    "import numpy as np\n",
    "np.mean(lst)"
   ]
  },
  {
   "cell_type": "code",
   "execution_count": 3,
   "id": "463e8875-08e1-4812-8a86-d3ffe269f2d3",
   "metadata": {},
   "outputs": [
    {
     "data": {
      "text/plain": [
       "177.0"
      ]
     },
     "execution_count": 3,
     "metadata": {},
     "output_type": "execute_result"
    }
   ],
   "source": [
    "# Median-\n",
    "np.median(lst)"
   ]
  },
  {
   "cell_type": "code",
   "execution_count": 4,
   "id": "b4d61268-6119-4029-8b34-6a8fd2d52992",
   "metadata": {},
   "outputs": [
    {
     "name": "stderr",
     "output_type": "stream",
     "text": [
      "/tmp/ipykernel_417/2048079592.py:3: FutureWarning: Unlike other reduction functions (e.g. `skew`, `kurtosis`), the default behavior of `mode` typically preserves the axis it acts along. In SciPy 1.11.0, this behavior will change: the default value of `keepdims` will become False, the `axis` over which the statistic is taken will be eliminated, and the value None will no longer be accepted. Set `keepdims` to True or False to avoid this warning.\n",
      "  stats.mode(lst)\n"
     ]
    },
    {
     "data": {
      "text/plain": [
       "ModeResult(mode=array([177.]), count=array([3]))"
      ]
     },
     "execution_count": 4,
     "metadata": {},
     "output_type": "execute_result"
    }
   ],
   "source": [
    "# Mode-\n",
    "from scipy import stats\n",
    "stats.mode(lst)"
   ]
  },
  {
   "cell_type": "markdown",
   "id": "f1f6063c-6955-4ee2-af14-79ab2464b76d",
   "metadata": {},
   "source": [
    "#### (4)-"
   ]
  },
  {
   "cell_type": "code",
   "execution_count": 5,
   "id": "885a4ec0-334d-40ac-bf19-910eb9518719",
   "metadata": {},
   "outputs": [
    {
     "data": {
      "text/plain": [
       "1.7885814036548633"
      ]
     },
     "execution_count": 5,
     "metadata": {},
     "output_type": "execute_result"
    }
   ],
   "source": [
    "# Standard deviation-\n",
    "np.std(lst)"
   ]
  },
  {
   "cell_type": "markdown",
   "id": "05d46cfb-9857-4dfe-9b3c-026a0d86b43c",
   "metadata": {},
   "source": [
    "#### (5)-\n",
    "##### Range is a measure of variability. It is obtained by subtracting the highest element and the lowest element. The wide range indicates high variability, and the small range specifies low variability in the distribution.\n",
    "##### Variance tells about the spread of data. Variance measures how far each element of the dataset is from the mean.\n",
    "##### Standard deviation is the squared root of variance. Most of the data lies within 3 standard deviations from the mean. Low standard deviation indicates data points close to mean."
   ]
  },
  {
   "cell_type": "code",
   "execution_count": 7,
   "id": "f1304acd-9f89-4293-87e9-d9500981dbaf",
   "metadata": {},
   "outputs": [
    {
     "data": {
      "text/plain": [
       "6"
      ]
     },
     "execution_count": 7,
     "metadata": {},
     "output_type": "execute_result"
    }
   ],
   "source": [
    "#example-\n",
    "data= [5,7,9,3]\n",
    "range_data= 9-3\n",
    "range_data"
   ]
  },
  {
   "cell_type": "code",
   "execution_count": null,
   "id": "6800a579-d014-40a8-be8b-5399fd2c0efd",
   "metadata": {},
   "outputs": [
    {
     "data": {
      "text/plain": [
       "6.0"
      ]
     },
     "execution_count": 10,
     "metadata": {},
     "output_type": "execute_result"
    }
   ],
   "source": [
    "mean= (5+7+9+3)/4\n",
    "mean"
   ]
  },
  {
   "cell_type": "code",
   "execution_count": 12,
   "id": "772948fb-e625-4743-9362-344980aa377f",
   "metadata": {},
   "outputs": [
    {
     "data": {
      "text/plain": [
       "5.0"
      ]
     },
     "execution_count": 12,
     "metadata": {},
     "output_type": "execute_result"
    }
   ],
   "source": [
    "var= ((5-6)**2 + (7-6)**2 + (9-6)**2 + (3-6)**2)/4\n",
    "var"
   ]
  },
  {
   "cell_type": "code",
   "execution_count": 13,
   "id": "32c5a0a0-0f4f-48f5-aede-d36ef07cd9d1",
   "metadata": {},
   "outputs": [
    {
     "data": {
      "text/plain": [
       "5.0"
      ]
     },
     "execution_count": 13,
     "metadata": {},
     "output_type": "execute_result"
    }
   ],
   "source": [
    "import numpy as np\n",
    "np.var(data)"
   ]
  },
  {
   "cell_type": "code",
   "execution_count": 15,
   "id": "7409f9f0-f5c4-4aa6-aaaa-3e180001754a",
   "metadata": {},
   "outputs": [
    {
     "data": {
      "text/plain": [
       "2.23606797749979"
      ]
     },
     "execution_count": 15,
     "metadata": {},
     "output_type": "execute_result"
    }
   ],
   "source": [
    "std= np.sqrt(var)\n",
    "std"
   ]
  },
  {
   "cell_type": "code",
   "execution_count": 16,
   "id": "1b080bae-7c5e-4307-aa6d-cf8aa2976067",
   "metadata": {},
   "outputs": [
    {
     "data": {
      "text/plain": [
       "2.23606797749979"
      ]
     },
     "execution_count": 16,
     "metadata": {},
     "output_type": "execute_result"
    }
   ],
   "source": [
    "np.std(data)"
   ]
  },
  {
   "cell_type": "markdown",
   "id": "ce15f951-da2d-485c-8376-bccf0fdcfb08",
   "metadata": {},
   "source": [
    "#### (6)-\n",
    "##### A Venn diagram uses overlapping circles or other shapes to illustrate the logical relationships between two or more sets of items. Often, they serve to graphically organize things, highlighting how the items are similar and different."
   ]
  },
  {
   "cell_type": "markdown",
   "id": "326d8468-bbd0-402a-80f4-19a4603feb66",
   "metadata": {},
   "source": [
    "#### (7)-"
   ]
  },
  {
   "cell_type": "code",
   "execution_count": 18,
   "id": "6e2b606c-a52e-4d01-a6b3-fb7592fbe40e",
   "metadata": {},
   "outputs": [
    {
     "data": {
      "text/plain": [
       "{0, 2, 3, 4, 5, 6, 7, 8, 10}"
      ]
     },
     "execution_count": 18,
     "metadata": {},
     "output_type": "execute_result"
    }
   ],
   "source": [
    "A= {2,3,4,5,6,7}\n",
    "B= {0,2,6,8,10}\n",
    "union = A|B\n",
    "union"
   ]
  },
  {
   "cell_type": "code",
   "execution_count": 19,
   "id": "78945cd0-49e7-4145-a8c5-aecd794ed4fb",
   "metadata": {},
   "outputs": [
    {
     "data": {
      "text/plain": [
       "{2, 6}"
      ]
     },
     "execution_count": 19,
     "metadata": {},
     "output_type": "execute_result"
    }
   ],
   "source": [
    "intersection= A&B\n",
    "intersection"
   ]
  },
  {
   "cell_type": "markdown",
   "id": "54608be6-bb01-43ab-9752-594df0a667c8",
   "metadata": {},
   "source": [
    "#### (8)-\n",
    "##### Skewness is a measure of asymmetry of distribution. A distribution can have right (or positive), left (or negative), or zero skewness."
   ]
  },
  {
   "cell_type": "markdown",
   "id": "1a11320e-d16d-4e0a-bd21-cea3c3e6e225",
   "metadata": {},
   "source": [
    "#### (9)-\n",
    "##### If the data is right skewed, Mean> Median> Mode. So median will be smaller than mean thus it will fall to the left of mean."
   ]
  },
  {
   "cell_type": "markdown",
   "id": "528f37a0-9cee-4a8c-a61d-d8b644f04843",
   "metadata": {},
   "source": [
    "#### (10)-\n",
    "##### Covariance is a statistical term that refers to a systematic relationship between two random variables in which a change in one reflects a change in other variable. The greater the covariance, the more reliant the relationship. Positive covariance denotes a direct relationship and is represented by a positive number. Negative covariance denotes an inverse relationship and is represented by a negative number. Covariance is great for defining the type of relationship, but it's terrible for interpreting the magnitude.\n",
    "##### In statistics, correlation is a measure that determines the degree to which two or more random variables move in sequence. When an equivalent movement of another variable reciprocates the movement of one variable in some way or another during the study of two variables, the variables are said to be correlated. The range of correlation is from -1 to +1. \n",
    "##### Covariance is the extent to which 2 random variables are dependent on each other. High value denotes higher dependency. But Correlation is the magnitude of relation of the random variables.\n",
    "##### Covariance and Correlation are important because they help in knowing the realtionship between random variables. Once we know the relationship it will help us in feature selection. We select those features which are highly correlated for building our ML models."
   ]
  },
  {
   "cell_type": "markdown",
   "id": "03b22484-6a95-4fee-a83c-1d28068d8e2c",
   "metadata": {},
   "source": [
    "#### (11)-\n",
    "##### Formula for sample mean- S= (sum of all data points)/n \n",
    "##### where n is the sample dataset size"
   ]
  },
  {
   "cell_type": "code",
   "execution_count": 21,
   "id": "1bc1e56d-4fcd-423b-bbb1-77a39695abd2",
   "metadata": {},
   "outputs": [
    {
     "data": {
      "text/plain": [
       "6.0"
      ]
     },
     "execution_count": 21,
     "metadata": {},
     "output_type": "execute_result"
    }
   ],
   "source": [
    "# Example-\n",
    "data= [5,7,9,3]\n",
    "mean= sum(data)/len(data)\n",
    "mean"
   ]
  },
  {
   "cell_type": "code",
   "execution_count": 22,
   "id": "2bbe1aca-2210-45a7-b437-c265f50f1a7b",
   "metadata": {},
   "outputs": [
    {
     "data": {
      "text/plain": [
       "6.0"
      ]
     },
     "execution_count": 22,
     "metadata": {},
     "output_type": "execute_result"
    }
   ],
   "source": [
    "np.mean(data)"
   ]
  },
  {
   "cell_type": "markdown",
   "id": "cb4e9578-8deb-4f1b-a98b-3d88726e5111",
   "metadata": {},
   "source": [
    "#### (12)-\n",
    "##### For a normal distribution data i.e Guassian distribution, it is a symmetrical distribution so the measures of central tendency are all equal and lie at the centre. Mean= Median= Mode."
   ]
  },
  {
   "cell_type": "markdown",
   "id": "7a4218e6-372f-4e12-83ed-0b2f0cad7d84",
   "metadata": {},
   "source": [
    "#### (13)-\n",
    "##### Covariance is an indicator of the extent to which 2 random variables are dependent on each other. A higher number denotes higher dependency. But Correlation is a statistical measure that indicates how strongly two variables are related. It tells about the magnitude of the realtionship.\n",
    "##### The value of covariance lies in the range of -infinity to +infinity. Covariance doesn't has a specific limit value. Correlation is limited to values in the range -1 and +1."
   ]
  },
  {
   "cell_type": "markdown",
   "id": "699c7d5f-988d-41fd-ad11-5004e9a67a00",
   "metadata": {},
   "source": [
    "#### (14)-\n",
    "##### Outliers present in our dataset affect the measures of central tendency. Mean is more sensitive to outliers than median and mode. The mean gets drastically shifted in presence of an outlier. Median doesn't change much so it is a better measure of ecntral tendency in presence of outliers. Mode is also not affected much by outliers. \n",
    "##### Outliers also affect the measures of dispersion. They drastically change the spread of data i.e. variance, range and standard deviation too. They lie more than 3 standard deviations from the mean."
   ]
  },
  {
   "cell_type": "code",
   "execution_count": 26,
   "id": "d93898eb-44d3-4e2b-8a5f-314f2f35cdfd",
   "metadata": {},
   "outputs": [],
   "source": [
    "# sample data without outlier-\n",
    "\n",
    "data1= [45,34,55,76,45,35,89,98,75]\n",
    "\n",
    "import numpy as np\n",
    "from scipy import stats"
   ]
  },
  {
   "cell_type": "code",
   "execution_count": 27,
   "id": "186e01c0-1eef-4ec2-9571-2759e0b8886f",
   "metadata": {},
   "outputs": [
    {
     "data": {
      "text/plain": [
       "61.333333333333336"
      ]
     },
     "execution_count": 27,
     "metadata": {},
     "output_type": "execute_result"
    }
   ],
   "source": [
    "mean= np.mean(data1)\n",
    "mean"
   ]
  },
  {
   "cell_type": "code",
   "execution_count": 28,
   "id": "805b33f6-2b1c-40f3-838f-18f5754d0fea",
   "metadata": {},
   "outputs": [
    {
     "data": {
      "text/plain": [
       "55.0"
      ]
     },
     "execution_count": 28,
     "metadata": {},
     "output_type": "execute_result"
    }
   ],
   "source": [
    "median= np.median(data1)\n",
    "median"
   ]
  },
  {
   "cell_type": "code",
   "execution_count": 29,
   "id": "d6bdc325-633d-472b-9036-e7f544df37ae",
   "metadata": {},
   "outputs": [
    {
     "name": "stderr",
     "output_type": "stream",
     "text": [
      "/tmp/ipykernel_417/414990656.py:1: FutureWarning: Unlike other reduction functions (e.g. `skew`, `kurtosis`), the default behavior of `mode` typically preserves the axis it acts along. In SciPy 1.11.0, this behavior will change: the default value of `keepdims` will become False, the `axis` over which the statistic is taken will be eliminated, and the value None will no longer be accepted. Set `keepdims` to True or False to avoid this warning.\n",
      "  mode= stats.mode(data1)\n"
     ]
    },
    {
     "data": {
      "text/plain": [
       "ModeResult(mode=array([45]), count=array([2]))"
      ]
     },
     "execution_count": 29,
     "metadata": {},
     "output_type": "execute_result"
    }
   ],
   "source": [
    "mode= stats.mode(data1)\n",
    "mode"
   ]
  },
  {
   "cell_type": "code",
   "execution_count": 30,
   "id": "443dd63a-8ea3-45da-984c-597223d92eed",
   "metadata": {},
   "outputs": [
    {
     "data": {
      "text/plain": [
       "64"
      ]
     },
     "execution_count": 30,
     "metadata": {},
     "output_type": "execute_result"
    }
   ],
   "source": [
    "range_data1= 98-34\n",
    "range_data1"
   ]
  },
  {
   "cell_type": "code",
   "execution_count": 31,
   "id": "98ba00a2-cf7e-4ec8-85b8-b5cd91e52e0a",
   "metadata": {},
   "outputs": [
    {
     "data": {
      "text/plain": [
       "502.8888888888889"
      ]
     },
     "execution_count": 31,
     "metadata": {},
     "output_type": "execute_result"
    }
   ],
   "source": [
    "var= np.var(data1)\n",
    "var"
   ]
  },
  {
   "cell_type": "code",
   "execution_count": 33,
   "id": "10b479f1-e05c-4d59-b94b-4ac1e5faf5bb",
   "metadata": {},
   "outputs": [
    {
     "data": {
      "text/plain": [
       "22.425184255405547"
      ]
     },
     "execution_count": 33,
     "metadata": {},
     "output_type": "execute_result"
    }
   ],
   "source": [
    "std= np.std(data1)\n",
    "std"
   ]
  },
  {
   "cell_type": "code",
   "execution_count": 34,
   "id": "82c08014-c1ca-4d02-a973-f1f342477806",
   "metadata": {},
   "outputs": [],
   "source": [
    "# sample data with outlier-\n",
    "\n",
    "data2= [45,34,55,76,45,35,89,98,75,1000]"
   ]
  },
  {
   "cell_type": "code",
   "execution_count": 35,
   "id": "d0246374-4f6c-4869-84de-f1854b23fd65",
   "metadata": {},
   "outputs": [
    {
     "data": {
      "text/plain": [
       "155.2"
      ]
     },
     "execution_count": 35,
     "metadata": {},
     "output_type": "execute_result"
    }
   ],
   "source": [
    "new_mean= np.mean(data2)\n",
    "new_mean"
   ]
  },
  {
   "cell_type": "code",
   "execution_count": 36,
   "id": "8832164e-84d1-4f8c-87eb-2daa4bdbe774",
   "metadata": {},
   "outputs": [
    {
     "data": {
      "text/plain": [
       "65.0"
      ]
     },
     "execution_count": 36,
     "metadata": {},
     "output_type": "execute_result"
    }
   ],
   "source": [
    "new_median= np.median(data2)\n",
    "new_median"
   ]
  },
  {
   "cell_type": "code",
   "execution_count": 37,
   "id": "4c46f6bf-bf7d-4858-b64e-490471a625d1",
   "metadata": {},
   "outputs": [
    {
     "name": "stderr",
     "output_type": "stream",
     "text": [
      "/tmp/ipykernel_417/3853602983.py:1: FutureWarning: Unlike other reduction functions (e.g. `skew`, `kurtosis`), the default behavior of `mode` typically preserves the axis it acts along. In SciPy 1.11.0, this behavior will change: the default value of `keepdims` will become False, the `axis` over which the statistic is taken will be eliminated, and the value None will no longer be accepted. Set `keepdims` to True or False to avoid this warning.\n",
      "  new_mode= stats.mode(data2)\n"
     ]
    },
    {
     "data": {
      "text/plain": [
       "ModeResult(mode=array([45]), count=array([2]))"
      ]
     },
     "execution_count": 37,
     "metadata": {},
     "output_type": "execute_result"
    }
   ],
   "source": [
    "new_mode= stats.mode(data2)\n",
    "new_mode"
   ]
  },
  {
   "cell_type": "code",
   "execution_count": 38,
   "id": "6bcdcc4c-d6b1-4ad9-8989-7e6045ff8176",
   "metadata": {},
   "outputs": [
    {
     "data": {
      "text/plain": [
       "966"
      ]
     },
     "execution_count": 38,
     "metadata": {},
     "output_type": "execute_result"
    }
   ],
   "source": [
    "new_range= 1000-34\n",
    "new_range"
   ]
  },
  {
   "cell_type": "code",
   "execution_count": 39,
   "id": "49e3c300-7cd0-4141-af28-e4299b6fa0a5",
   "metadata": {},
   "outputs": [
    {
     "data": {
      "text/plain": [
       "79751.15999999999"
      ]
     },
     "execution_count": 39,
     "metadata": {},
     "output_type": "execute_result"
    }
   ],
   "source": [
    "new_var= np.var(data2)\n",
    "new_var"
   ]
  },
  {
   "cell_type": "code",
   "execution_count": 40,
   "id": "c397edf4-2caf-4ebd-870e-b21d4a76c6d0",
   "metadata": {},
   "outputs": [
    {
     "data": {
      "text/plain": [
       "282.4024787426626"
      ]
     },
     "execution_count": 40,
     "metadata": {},
     "output_type": "execute_result"
    }
   ],
   "source": [
    "new_std= np.std(data2)\n",
    "new_std"
   ]
  },
  {
   "cell_type": "code",
   "execution_count": 41,
   "id": "0bfe4dcb-d39e-43ab-a4e3-2d448c3a47c4",
   "metadata": {},
   "outputs": [],
   "source": [
    "# so with the addition of outlier mean, range, variance, standard deviation drastically changed."
   ]
  },
  {
   "cell_type": "code",
   "execution_count": null,
   "id": "d92fc4d1-cefc-4c98-b1be-aec851518538",
   "metadata": {},
   "outputs": [],
   "source": []
  }
 ],
 "metadata": {
  "kernelspec": {
   "display_name": "Python 3 (ipykernel)",
   "language": "python",
   "name": "python3"
  },
  "language_info": {
   "codemirror_mode": {
    "name": "ipython",
    "version": 3
   },
   "file_extension": ".py",
   "mimetype": "text/x-python",
   "name": "python",
   "nbconvert_exporter": "python",
   "pygments_lexer": "ipython3",
   "version": "3.10.8"
  }
 },
 "nbformat": 4,
 "nbformat_minor": 5
}
