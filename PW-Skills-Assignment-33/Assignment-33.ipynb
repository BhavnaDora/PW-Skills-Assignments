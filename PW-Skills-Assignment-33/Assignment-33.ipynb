{
 "cells": [
  {
   "cell_type": "markdown",
   "id": "0062eae3-b7d8-4ec5-9e73-6c4e59ea3b80",
   "metadata": {},
   "source": [
    "#### (1)-\n",
    "##### The probability distribution of discrete random variables are described by Probability Mass Function (PMF). It is a mathematical function that describes the probability that a random variable will take on a specific value rather than falling within a range of values. Ex) Rolling a fair dice and finding probability for getting a specific number say 5.\n",
    "##### The probability distribution of continuous random variables are described by Probability Density Function (PDF). It is a mathematical function that describes the probability that a random variable will fall within a certain range of values. Ex) Taking a heights dataset and finding the probability of a height."
   ]
  },
  {
   "cell_type": "markdown",
   "id": "bc4bf910-526a-48a2-b7a4-40a9a49b1f3b",
   "metadata": {},
   "source": [
    "#### (2)-\n",
    "##### Cumulative Density Function (CDF) is used to describe the probability distribution of discrete as well as continuous random variables. It gives the cumulative probability. Ex) If we roll a fair dice then the probability of getting values till 4 will be probability of getting 1 plus probability of getting 2 plus probability of getting 3 plus probability of getting 4= 1/6+1/6+1/6+1/6= 4/6. The Cumulative Distribution Function (CDF) of a real-valued random variable X, evaluated at x, is the probability function that X will take a value less than or equal to x. The cumulative distribution function (CDF) calculates the cumulative probability for a given x-value."
   ]
  },
  {
   "cell_type": "markdown",
   "id": "e9ccb861-0f24-4c7f-8403-667200e451cb",
   "metadata": {},
   "source": [
    "#### (3)-\n",
    "##### Situations where the normal distribution is used as a model- Heights of people, blood pressure, weights, student's average report etc. \n",
    "##### The two parameters of normal distribution are mean and standard deviation. The mean is located at the centre. The mean defines the location of the peak and most data points are clustered around mean. Most of the data of the random variable (following normal distribution) falls within 3 standard deviations from the mean. So, the standard deviation or variance determines the width of the curve. In this way these 2 parameters relate to the shape of the distribution. Using mean and standard deviation and calculating the y values for each data point(x) using gaussian function, the bell curve can be plotted."
   ]
  },
  {
   "cell_type": "markdown",
   "id": "c4b10776-69e3-4e29-91a9-c88a84eb9080",
   "metadata": {},
   "source": [
    "#### (4)-\n",
    "##### Normal/Gaussian distribution is one of the most important probability distributions in statistics because they accuartely describe the distribution of values for many natural phenomenon. Most of the data in universe follow Normal/Gaussian distribution.\n",
    "##### Real life examples of normal distribution- Birth weight of babies, shoe sizes, Blood pressures, Stock price returns etc."
   ]
  },
  {
   "cell_type": "markdown",
   "id": "42d8ef36-e9b7-454e-869e-6a2efd452a9c",
   "metadata": {},
   "source": [
    "#### (5)-\n",
    "##### Bernoulli distribution is the discrete probability distribution of a random variable which has binary outcomes like 1 with probability p and 0 with probability q= 1-p. Informally it can be thought of as a model for any experiment whose outcomes are basically yes/success/1 or no/failure/0.\n",
    "##### Ex) Tossing a fair coin once and finding the probability of getting a head. So, outcome of getting a head is 1 and not getting a head i.e. getting a tail is 0. Thus binary outcomes, so Bernoulli distribution.\n",
    "##### Binomial distribution is the discrete probability distribution of the number of successes in a sequence of n independent experiments, each asking a yes-no question and each with its own boolean valued outcome: success(with probability p) and failure(with probability 1-p). Whereas Bernoulli distribution is the discrete probability distribution of a random variable in a single trial."
   ]
  },
  {
   "cell_type": "markdown",
   "id": "ffd6dffe-71c9-4e74-8820-695f6867df8c",
   "metadata": {},
   "source": [
    "#### (6)-\n",
    "##### The dataset follows normal distribution."
   ]
  },
  {
   "cell_type": "code",
   "execution_count": 1,
   "id": "bc9a0c15-9408-4974-8598-154a50cc101b",
   "metadata": {},
   "outputs": [],
   "source": [
    "mean= 50\n",
    "std= 10\n",
    "xi= 60"
   ]
  },
  {
   "cell_type": "code",
   "execution_count": 2,
   "id": "fca2f90e-8ca7-473e-a6d4-20e375daaace",
   "metadata": {},
   "outputs": [
    {
     "data": {
      "text/plain": [
       "1.0"
      ]
     },
     "execution_count": 2,
     "metadata": {},
     "output_type": "execute_result"
    }
   ],
   "source": [
    "z_score= (xi-mean)/std\n",
    "z_score"
   ]
  },
  {
   "cell_type": "markdown",
   "id": "1a005e62-bc06-4e83-8824-9bccff4db023",
   "metadata": {},
   "source": [
    "##### A z_score of 1 corresponds to the point xi lying 1 standard deviation away from the mean. We want to find the probability of a random observation to be greater than 60. So, we want the area under the curve to the right side of 60.\n",
    "##### Using this Z_score in the Z_table we get AUC from left upto the point 60 = 0.84134. So, AUC to the right side of 60-"
   ]
  },
  {
   "cell_type": "code",
   "execution_count": 3,
   "id": "69d25f1d-a242-4271-a3b8-98f0b72e368c",
   "metadata": {},
   "outputs": [
    {
     "data": {
      "text/plain": [
       "0.15866000000000002"
      ]
     },
     "execution_count": 3,
     "metadata": {},
     "output_type": "execute_result"
    }
   ],
   "source": [
    "AUC= 1-0.84134\n",
    "AUC"
   ]
  },
  {
   "cell_type": "markdown",
   "id": "938d3c86-dc25-490a-becb-be69596f3079",
   "metadata": {},
   "source": [
    "##### Therefore the probability of a random observation to be greater than 60 is 0.15866"
   ]
  },
  {
   "cell_type": "markdown",
   "id": "8dd50a49-147d-4b2d-a711-2a6595b75785",
   "metadata": {},
   "source": [
    "#### (7)-\n",
    "##### Uniform distribution is a probability distribution where the outcomes are equallly likely to occur i.e they have a constant probability. It is of 2 types- \n",
    "##### Continuous uniform distribution- Also called as rectangular distribution, the distribution describes an experiment where there is an arbitrary outcome that lies between certain bounds a(min) and b(max). It describes the distribution of a conttinuous random variable using Probability Density Function.\n",
    "##### Discrete uniform distribution- It is a symmetric distributuion wherein a finite number of values are equally likely to be observed, every one of n values has equal probability 1/n. It describes the distribution of a discrete random variable using Probability Mass Function.\n",
    "##### Ex) Rolling a fair dice, the probability of getting 1, 2, 3, 4, 5, 6 , each = 1/6. So, this is a discrete random variable with each data point having equal probability. So, it is an uniform distribution and can be described by PMF."
   ]
  },
  {
   "cell_type": "markdown",
   "id": "e0fbfd16-f1a2-40ae-9f34-4b064f0594ab",
   "metadata": {},
   "source": [
    "#### (8)-\n",
    "##### Z-score is a statistical measurement that describes a value's relationship to the mean of a group of values. Z-score tells how many standard deviations away from the mean a point lies.\n",
    "##### Importance of Z-score-\n",
    "##### Z-score helps in standardizing the data i.e. converting all values to one unit. This basically means Z-score helps in changing a Normal distribution with some mean and standard deviation, to a Standard Normal distribution with mean= 0 and standard deviation= 1.\n",
    "##### This in turn increases the training efficiency of ML models.\n",
    "##### Z-score helps in calculating how many standard deviations away from the mean a particular point lies."
   ]
  },
  {
   "cell_type": "markdown",
   "id": "fef1d959-e12d-4203-8c07-cbe4ef5f93fe",
   "metadata": {},
   "source": [
    "#### (9)-\n",
    "##### Central limit theorem says that the sampling distribution of mean will always be normally distributed as long as the sample size is large enough, regardless of whether the population has normal, poisson, binomial or any other distribution. Sampling distribution is nothing but the probability distribution of a statistic for a large number of samples taken from a population.\n",
    "##### Significance of CLT-\n",
    "##### Election polling is a great example of how you can use CLT. These polls are used to estimate the number of people who support a specific candidate. The CLT aids in this calculation.\n",
    "##### We use the CLT in various census fields to calculate various population details such as family income, electricity consumption, individual salaries, and so on."
   ]
  },
  {
   "cell_type": "markdown",
   "id": "40a04c37-9f0f-4278-ab16-3f7c6469c9d2",
   "metadata": {},
   "source": [
    "#### (10)-\n",
    "##### Assumptions of Central Limit Theorem-\n",
    "##### The data must adhere to the randomization rule. It needs to be sampled at random.\n",
    "##### When the population data follows normal distribution, the sample size n can be any value. BUt if the population data doesn't follow normal distribution then the sample size should be >= 30. So, we have to consider large sample size.\n",
    "##### The samples should be unrelated to one another. One sample should not impact the others."
   ]
  },
  {
   "cell_type": "code",
   "execution_count": null,
   "id": "60098a72-364b-4d05-95b4-5842e821e151",
   "metadata": {},
   "outputs": [],
   "source": []
  }
 ],
 "metadata": {
  "kernelspec": {
   "display_name": "Python 3 (ipykernel)",
   "language": "python",
   "name": "python3"
  },
  "language_info": {
   "codemirror_mode": {
    "name": "ipython",
    "version": 3
   },
   "file_extension": ".py",
   "mimetype": "text/x-python",
   "name": "python",
   "nbconvert_exporter": "python",
   "pygments_lexer": "ipython3",
   "version": "3.10.8"
  }
 },
 "nbformat": 4,
 "nbformat_minor": 5
}
