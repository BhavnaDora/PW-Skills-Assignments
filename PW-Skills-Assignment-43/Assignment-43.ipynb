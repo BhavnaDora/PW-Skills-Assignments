{
 "cells": [
  {
   "cell_type": "markdown",
   "id": "92fdc272-3585-47ae-b02e-53eaf12b175b",
   "metadata": {},
   "source": [
    "#### (1)-\n",
    "##### Data encoding is a technique of converting categorical variables into numerical values so that it can be easily fitted into machine learning model. Data encoding is of 3 types-\n",
    "- Nominal Encoding/ One Hot Encoding\n",
    "- Label and Ordinal Encoding\n",
    "- Target Guided Ordinal Encoding\n",
    "##### It is useful in data science becuase if our dataset contains categorical variables and we feed this dataset to our ML model for training, then our model won't be able to comprehend the categorical variables. So, proper training won't happen. There data encoding comes into picture and it converts categorical values to meaningful numerical values which our model can understand."
   ]
  },
  {
   "cell_type": "markdown",
   "id": "f548c72c-12d1-4e1d-bc61-487a953f1884",
   "metadata": {},
   "source": [
    "#### (2)-\n",
    "##### Nominal encoding is a data encoding technique used to represent categorical data as numerical data. Each category of the categorical variable is encoded as a binary vector. For Ex) If we have a categorical variable \"color\" with 3 unique categories- Red, Green, Blue, we can represent them as Blue- [1,0,0], Green= [0,1,0], Red= [0,0,1]"
   ]
  },
  {
   "cell_type": "code",
   "execution_count": 4,
   "id": "b0f2634d-4416-43a3-a908-4b5d3b7a20a4",
   "metadata": {},
   "outputs": [
    {
     "data": {
      "text/html": [
       "<div>\n",
       "<style scoped>\n",
       "    .dataframe tbody tr th:only-of-type {\n",
       "        vertical-align: middle;\n",
       "    }\n",
       "\n",
       "    .dataframe tbody tr th {\n",
       "        vertical-align: top;\n",
       "    }\n",
       "\n",
       "    .dataframe thead th {\n",
       "        text-align: right;\n",
       "    }\n",
       "</style>\n",
       "<table border=\"1\" class=\"dataframe\">\n",
       "  <thead>\n",
       "    <tr style=\"text-align: right;\">\n",
       "      <th></th>\n",
       "      <th>city</th>\n",
       "    </tr>\n",
       "  </thead>\n",
       "  <tbody>\n",
       "    <tr>\n",
       "      <th>0</th>\n",
       "      <td>Mumbai</td>\n",
       "    </tr>\n",
       "    <tr>\n",
       "      <th>1</th>\n",
       "      <td>Goa</td>\n",
       "    </tr>\n",
       "    <tr>\n",
       "      <th>2</th>\n",
       "      <td>Bhubaneswar</td>\n",
       "    </tr>\n",
       "    <tr>\n",
       "      <th>3</th>\n",
       "      <td>Bengaluru</td>\n",
       "    </tr>\n",
       "    <tr>\n",
       "      <th>4</th>\n",
       "      <td>Hyderabad</td>\n",
       "    </tr>\n",
       "    <tr>\n",
       "      <th>5</th>\n",
       "      <td>Bengaluru</td>\n",
       "    </tr>\n",
       "    <tr>\n",
       "      <th>6</th>\n",
       "      <td>Goa</td>\n",
       "    </tr>\n",
       "    <tr>\n",
       "      <th>7</th>\n",
       "      <td>Bhubaneswar</td>\n",
       "    </tr>\n",
       "  </tbody>\n",
       "</table>\n",
       "</div>"
      ],
      "text/plain": [
       "          city\n",
       "0       Mumbai\n",
       "1          Goa\n",
       "2  Bhubaneswar\n",
       "3    Bengaluru\n",
       "4    Hyderabad\n",
       "5    Bengaluru\n",
       "6          Goa\n",
       "7  Bhubaneswar"
      ]
     },
     "execution_count": 4,
     "metadata": {},
     "output_type": "execute_result"
    }
   ],
   "source": [
    "# example of nominal encoding-\n",
    "\n",
    "import pandas as pd\n",
    "df= pd.DataFrame({\"city\": [\"Mumbai\", \"Goa\", \"Bhubaneswar\", \"Bengaluru\", \"Hyderabad\", \"Bengaluru\", \"Goa\", \"Bhubaneswar\"]})\n",
    "df"
   ]
  },
  {
   "cell_type": "code",
   "execution_count": 5,
   "id": "561243fe-cd9f-407e-ab51-e13229ecc8f2",
   "metadata": {},
   "outputs": [
    {
     "data": {
      "text/plain": [
       "<8x5 sparse matrix of type '<class 'numpy.float64'>'\n",
       "\twith 8 stored elements in Compressed Sparse Row format>"
      ]
     },
     "execution_count": 5,
     "metadata": {},
     "output_type": "execute_result"
    }
   ],
   "source": [
    "from sklearn.preprocessing import OneHotEncoder\n",
    "encoder= OneHotEncoder()\n",
    "encoder.fit_transform(df[[\"city\"]])"
   ]
  },
  {
   "cell_type": "code",
   "execution_count": 7,
   "id": "bf90c8f4-75bc-4de7-b6e8-feb224e766d4",
   "metadata": {},
   "outputs": [
    {
     "data": {
      "text/plain": [
       "array([[0., 0., 0., 0., 1.],\n",
       "       [0., 0., 1., 0., 0.],\n",
       "       [0., 1., 0., 0., 0.],\n",
       "       [1., 0., 0., 0., 0.],\n",
       "       [0., 0., 0., 1., 0.],\n",
       "       [1., 0., 0., 0., 0.],\n",
       "       [0., 0., 1., 0., 0.],\n",
       "       [0., 1., 0., 0., 0.]])"
      ]
     },
     "execution_count": 7,
     "metadata": {},
     "output_type": "execute_result"
    }
   ],
   "source": [
    "encoded= encoder.fit_transform(df[[\"city\"]]).toarray()\n",
    "encoded"
   ]
  },
  {
   "cell_type": "code",
   "execution_count": 10,
   "id": "8bc5cfb0-7ddd-426c-a708-9e171b30757e",
   "metadata": {},
   "outputs": [
    {
     "data": {
      "text/html": [
       "<div>\n",
       "<style scoped>\n",
       "    .dataframe tbody tr th:only-of-type {\n",
       "        vertical-align: middle;\n",
       "    }\n",
       "\n",
       "    .dataframe tbody tr th {\n",
       "        vertical-align: top;\n",
       "    }\n",
       "\n",
       "    .dataframe thead th {\n",
       "        text-align: right;\n",
       "    }\n",
       "</style>\n",
       "<table border=\"1\" class=\"dataframe\">\n",
       "  <thead>\n",
       "    <tr style=\"text-align: right;\">\n",
       "      <th></th>\n",
       "      <th>city</th>\n",
       "      <th>city_Bengaluru</th>\n",
       "      <th>city_Bhubaneswar</th>\n",
       "      <th>city_Goa</th>\n",
       "      <th>city_Hyderabad</th>\n",
       "      <th>city_Mumbai</th>\n",
       "    </tr>\n",
       "  </thead>\n",
       "  <tbody>\n",
       "    <tr>\n",
       "      <th>0</th>\n",
       "      <td>Mumbai</td>\n",
       "      <td>0.0</td>\n",
       "      <td>0.0</td>\n",
       "      <td>0.0</td>\n",
       "      <td>0.0</td>\n",
       "      <td>1.0</td>\n",
       "    </tr>\n",
       "    <tr>\n",
       "      <th>1</th>\n",
       "      <td>Goa</td>\n",
       "      <td>0.0</td>\n",
       "      <td>0.0</td>\n",
       "      <td>1.0</td>\n",
       "      <td>0.0</td>\n",
       "      <td>0.0</td>\n",
       "    </tr>\n",
       "    <tr>\n",
       "      <th>2</th>\n",
       "      <td>Bhubaneswar</td>\n",
       "      <td>0.0</td>\n",
       "      <td>1.0</td>\n",
       "      <td>0.0</td>\n",
       "      <td>0.0</td>\n",
       "      <td>0.0</td>\n",
       "    </tr>\n",
       "    <tr>\n",
       "      <th>3</th>\n",
       "      <td>Bengaluru</td>\n",
       "      <td>1.0</td>\n",
       "      <td>0.0</td>\n",
       "      <td>0.0</td>\n",
       "      <td>0.0</td>\n",
       "      <td>0.0</td>\n",
       "    </tr>\n",
       "    <tr>\n",
       "      <th>4</th>\n",
       "      <td>Hyderabad</td>\n",
       "      <td>0.0</td>\n",
       "      <td>0.0</td>\n",
       "      <td>0.0</td>\n",
       "      <td>1.0</td>\n",
       "      <td>0.0</td>\n",
       "    </tr>\n",
       "    <tr>\n",
       "      <th>5</th>\n",
       "      <td>Bengaluru</td>\n",
       "      <td>1.0</td>\n",
       "      <td>0.0</td>\n",
       "      <td>0.0</td>\n",
       "      <td>0.0</td>\n",
       "      <td>0.0</td>\n",
       "    </tr>\n",
       "    <tr>\n",
       "      <th>6</th>\n",
       "      <td>Goa</td>\n",
       "      <td>0.0</td>\n",
       "      <td>0.0</td>\n",
       "      <td>1.0</td>\n",
       "      <td>0.0</td>\n",
       "      <td>0.0</td>\n",
       "    </tr>\n",
       "    <tr>\n",
       "      <th>7</th>\n",
       "      <td>Bhubaneswar</td>\n",
       "      <td>0.0</td>\n",
       "      <td>1.0</td>\n",
       "      <td>0.0</td>\n",
       "      <td>0.0</td>\n",
       "      <td>0.0</td>\n",
       "    </tr>\n",
       "  </tbody>\n",
       "</table>\n",
       "</div>"
      ],
      "text/plain": [
       "          city  city_Bengaluru  city_Bhubaneswar  city_Goa  city_Hyderabad  \\\n",
       "0       Mumbai             0.0               0.0       0.0             0.0   \n",
       "1          Goa             0.0               0.0       1.0             0.0   \n",
       "2  Bhubaneswar             0.0               1.0       0.0             0.0   \n",
       "3    Bengaluru             1.0               0.0       0.0             0.0   \n",
       "4    Hyderabad             0.0               0.0       0.0             1.0   \n",
       "5    Bengaluru             1.0               0.0       0.0             0.0   \n",
       "6          Goa             0.0               0.0       1.0             0.0   \n",
       "7  Bhubaneswar             0.0               1.0       0.0             0.0   \n",
       "\n",
       "   city_Mumbai  \n",
       "0          1.0  \n",
       "1          0.0  \n",
       "2          0.0  \n",
       "3          0.0  \n",
       "4          0.0  \n",
       "5          0.0  \n",
       "6          0.0  \n",
       "7          0.0  "
      ]
     },
     "execution_count": 10,
     "metadata": {},
     "output_type": "execute_result"
    }
   ],
   "source": [
    "encoded_df= pd.DataFrame(encoded, columns= encoder.get_feature_names_out())\n",
    "pd.concat([df, encoded_df], axis=1)"
   ]
  },
  {
   "cell_type": "markdown",
   "id": "dceee576-9d20-4b8f-b472-20b1d63d39c1",
   "metadata": {},
   "source": [
    "#### (3)-\n",
    "##### We should use One Hot Encoding when we have a categorical variable with less no. of unique categories, else if we have more no. of unique categories then we will get a large sparse matrix and it will lead to over fitting of the ML mode during training phase. OHE is prefered over Label encoding when we have nominal data in the categorical variable i.e. the categories aren't to be ranked. Because Label encoding assigns each category of the categorical variable an unique numerical label based on alphabetical order, this makes the ML model biased to ranking or position by assuming one category is greater than other.\n",
    "##### Nominal encoding is of 3 types- One Hot Encoding, One Hot Encoding(Multiple categories), Mean Encoding."
   ]
  },
  {
   "cell_type": "code",
   "execution_count": 2,
   "id": "f397d9a1-a514-4b9e-a569-375c47968685",
   "metadata": {},
   "outputs": [
    {
     "data": {
      "text/html": [
       "<div>\n",
       "<style scoped>\n",
       "    .dataframe tbody tr th:only-of-type {\n",
       "        vertical-align: middle;\n",
       "    }\n",
       "\n",
       "    .dataframe tbody tr th {\n",
       "        vertical-align: top;\n",
       "    }\n",
       "\n",
       "    .dataframe thead th {\n",
       "        text-align: right;\n",
       "    }\n",
       "</style>\n",
       "<table border=\"1\" class=\"dataframe\">\n",
       "  <thead>\n",
       "    <tr style=\"text-align: right;\">\n",
       "      <th></th>\n",
       "      <th>color</th>\n",
       "    </tr>\n",
       "  </thead>\n",
       "  <tbody>\n",
       "    <tr>\n",
       "      <th>0</th>\n",
       "      <td>red</td>\n",
       "    </tr>\n",
       "    <tr>\n",
       "      <th>1</th>\n",
       "      <td>blue</td>\n",
       "    </tr>\n",
       "    <tr>\n",
       "      <th>2</th>\n",
       "      <td>green</td>\n",
       "    </tr>\n",
       "    <tr>\n",
       "      <th>3</th>\n",
       "      <td>green</td>\n",
       "    </tr>\n",
       "    <tr>\n",
       "      <th>4</th>\n",
       "      <td>red</td>\n",
       "    </tr>\n",
       "    <tr>\n",
       "      <th>5</th>\n",
       "      <td>blue</td>\n",
       "    </tr>\n",
       "  </tbody>\n",
       "</table>\n",
       "</div>"
      ],
      "text/plain": [
       "   color\n",
       "0    red\n",
       "1   blue\n",
       "2  green\n",
       "3  green\n",
       "4    red\n",
       "5   blue"
      ]
     },
     "execution_count": 2,
     "metadata": {},
     "output_type": "execute_result"
    }
   ],
   "source": [
    "# example- \n",
    "import pandas as pd\n",
    "df= pd.DataFrame({\"color\": [\"red\",\"blue\",\"green\",\"green\",\"red\",\"blue\"]})\n",
    "df"
   ]
  },
  {
   "cell_type": "code",
   "execution_count": 4,
   "id": "4094c1a6-c3e0-40e1-a5e8-b795758d9898",
   "metadata": {},
   "outputs": [
    {
     "data": {
      "text/plain": [
       "<6x3 sparse matrix of type '<class 'numpy.float64'>'\n",
       "\twith 6 stored elements in Compressed Sparse Row format>"
      ]
     },
     "execution_count": 4,
     "metadata": {},
     "output_type": "execute_result"
    }
   ],
   "source": [
    "# create an instance or object of OneHotEncoder-\n",
    "from sklearn.preprocessing import OneHotEncoder\n",
    "encoder= OneHotEncoder()\n",
    "\n",
    "#perform fit and transform-\n",
    "encoder.fit_transform(df[[\"color\"]])"
   ]
  },
  {
   "cell_type": "code",
   "execution_count": 5,
   "id": "473b73cd-b11d-49c7-be27-b83b16ea906a",
   "metadata": {},
   "outputs": [
    {
     "data": {
      "text/plain": [
       "array([[0., 0., 1.],\n",
       "       [1., 0., 0.],\n",
       "       [0., 1., 0.],\n",
       "       [0., 1., 0.],\n",
       "       [0., 0., 1.],\n",
       "       [1., 0., 0.]])"
      ]
     },
     "execution_count": 5,
     "metadata": {},
     "output_type": "execute_result"
    }
   ],
   "source": [
    "encoded= encoder.fit_transform(df[[\"color\"]]).toarray()\n",
    "encoded"
   ]
  },
  {
   "cell_type": "markdown",
   "id": "b07622f4-825b-43a7-a207-c9b5bac90325",
   "metadata": {},
   "source": [
    "#### (4)-\n",
    "##### If the 5 unique categories in the categorical variable are of ordinal data type i.e. they can be ranked or given a position, then we use Ordinal Encoding. If the categories are of nominal data type, then we use One Hot Encoding, because we have 5 unique categories, so the sparse matrix won't be much large and it won't lead to overfitting. We shouldn't use label encoding because it will assign numerical labels to each category of the categorical variable based on alphabetical order, so it will make the ML model biased."
   ]
  },
  {
   "cell_type": "markdown",
   "id": "a4c4c8b7-0074-4dcf-acf2-78e8eee53436",
   "metadata": {},
   "source": [
    "#### (5)-\n",
    "##### The data set has 5 columns and 1000 rows. 2 columns are categorical, and we use nominal encoding to transform the categorical data. So, let's say one categorical variable has 2 unique categories and another categorical variable has 3 unique categories. So, we will get 5 new columns using these unique categories. So, we will get a 1000 X 5 sparse matrix. The total no. of columns are the 3 numerical columns plus these 5 new columns i.e. 8 columns which will be given to the ML model for training. "
   ]
  },
  {
   "cell_type": "markdown",
   "id": "03ab536e-f2e0-4aa9-9e36-21cde2356617",
   "metadata": {},
   "source": [
    "#### (6)-\n",
    "##### The dataset has these categorical features- Type, Species, Habitat, diet. All these are nominal type values and not ordinal, so they can't be ranked. Thus we can't use ordinal Encoding. We can't also use Target Guided Ordinal Encoding because we don't have any numerical target variable. We can't also use One Hot Encoding because we have 4 categorical variables and these may have many categories each, so a large sparse matrix will be generated, i.e. many new columns will be added so it will lead to overfitting. We can use Label Encoding, and can assign unique numerical values to the categories based on their frequency of occurence. "
   ]
  },
  {
   "cell_type": "markdown",
   "id": "7e87adea-0e2f-46ac-aa91-8aead6ffdc23",
   "metadata": {},
   "source": [
    "#### (7)-\n",
    "##### The dataset has customer's-  gender, age, contract type, monthly charges, tenure. So, we have 2 categorical features i.e. gender and contract type. So, we can use One Hot Encoding to convert these categorical values to numerical values. It will encode each category as a binary vector.\n",
    "- First we will view the dataset in a data framne df. \n",
    "- Then we will import OneHotEncoder from sklearn.preprocessing.\n",
    "- We instantiate the OneHotEncoder class by making an object of it let's say encoder.\n",
    "- Then, we pass these 2 categorical features as arguments of the fit_transform functionality of the OneHotEncoder class i.e. encoder.fit_transform(df[[\"gender\", \"contract\"]])\n",
    "- we convert the output to an array - encoder.fit_transform(df[[\"gender\", \"contract\"]]).toarray() and view that the unique categories have been converted to binary vectors\n",
    "- we give these converted categorical columns having numerical values instead of the original categorical features for training of the ML model."
   ]
  },
  {
   "cell_type": "code",
   "execution_count": null,
   "id": "2284ec34-bf18-4fff-a307-7c5f4b035605",
   "metadata": {},
   "outputs": [],
   "source": []
  }
 ],
 "metadata": {
  "kernelspec": {
   "display_name": "Python 3 (ipykernel)",
   "language": "python",
   "name": "python3"
  },
  "language_info": {
   "codemirror_mode": {
    "name": "ipython",
    "version": 3
   },
   "file_extension": ".py",
   "mimetype": "text/x-python",
   "name": "python",
   "nbconvert_exporter": "python",
   "pygments_lexer": "ipython3",
   "version": "3.10.8"
  }
 },
 "nbformat": 4,
 "nbformat_minor": 5
}
