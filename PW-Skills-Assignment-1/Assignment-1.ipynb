{
 "cells": [
  {
   "cell_type": "markdown",
   "id": "ab8ac2b5-a517-49fe-a5ae-43af1589d938",
   "metadata": {},
   "source": [
    "#### 1) Guido van Rossum developed Python programming language"
   ]
  },
  {
   "cell_type": "markdown",
   "id": "4c8308f8-6ec3-4717-a95d-37d2cf873c6c",
   "metadata": {},
   "source": [
    "#### 2) Python is an interpreted programming language and it supports Object-oriented programming, structured programming, functional programming and aspect-oriented programming (including metaprogramming and metaobjects)."
   ]
  },
  {
   "cell_type": "markdown",
   "id": "af347471-726a-409e-8a38-50f083a31374",
   "metadata": {},
   "source": [
    "#### 3) Yes, Python is case sensitive while dealing with identifiers."
   ]
  },
  {
   "cell_type": "markdown",
   "id": "830fadbb-9fb0-46c6-8fe2-4c451bd78b40",
   "metadata": {},
   "source": [
    "#### 4) Correct extension of Python file is .py"
   ]
  },
  {
   "cell_type": "markdown",
   "id": "a9b6baba-5ffb-4942-973a-b680ffa6a350",
   "metadata": {},
   "source": [
    "#### 5) Python code is first compiled and then interpreted line by line. The compilation part is done first when we execute our code and this will generate byte code and internally this byte code gets converted by the python virtual machine(PVM) to generate the output. The compilation part is hidden from the programmer."
   ]
  },
  {
   "cell_type": "markdown",
   "id": "50eef14d-aead-4dc4-9c66-d6b982decaec",
   "metadata": {},
   "source": [
    "#### 6) Python uses indentation (space or tab) to define blocks of code. "
   ]
  },
  {
   "cell_type": "markdown",
   "id": "4bbe0193-514d-49ba-90ab-9cdf793e619b",
   "metadata": {},
   "source": [
    "#### 7) \"#\" is used to give single line comments in python."
   ]
  },
  {
   "cell_type": "markdown",
   "id": "d08e44f8-fe2c-4828-89a9-674ee49fa391",
   "metadata": {},
   "source": [
    "#### 8) To check the python version first we have to import the python_version function with  \"from platform import python_version\". Then call the function python_version() that returns a string with the version number."
   ]
  },
  {
   "cell_type": "code",
   "execution_count": 3,
   "id": "af94488d-4b04-4ad3-b760-586e6ceca427",
   "metadata": {},
   "outputs": [
    {
     "data": {
      "text/plain": [
       "'3.10.8'"
      ]
     },
     "execution_count": 3,
     "metadata": {},
     "output_type": "execute_result"
    }
   ],
   "source": [
    "from platform import python_version\n",
    "python_version()"
   ]
  },
  {
   "cell_type": "markdown",
   "id": "1a2cd3a5-0f03-4d8a-9f27-78e4f98f5f0d",
   "metadata": {},
   "source": [
    "#### 9) Python supports the creation of anonymous functions at runtime, using a construct called \"lambda\"."
   ]
  },
  {
   "cell_type": "markdown",
   "id": "bffb71da-4464-4803-b50a-4c85268d9cb5",
   "metadata": {},
   "source": [
    "#### 10) pip stands for preferred installer program."
   ]
  },
  {
   "cell_type": "markdown",
   "id": "8b421956-3ad9-4b9e-91a9-ae0defe94bd1",
   "metadata": {},
   "source": [
    "#### 11) A few built-in functions in Python are-\n",
    "#### print(), list(), dict(), bool(), id(), type(), min(), max(), int(), float(), str(), input()\n"
   ]
  },
  {
   "cell_type": "markdown",
   "id": "70fc2044-d65c-4786-84b7-77455b62899e",
   "metadata": {},
   "source": [
    "#### 12) The maximum possible length of an identifier in Python is 79 characters."
   ]
  },
  {
   "cell_type": "markdown",
   "id": "4a911b5e-691b-48c6-9fa6-ecfc30b91f4c",
   "metadata": {},
   "source": [
    "#### 13) Benefits of using Python-\n",
    "##### (1) Easy to learn and easy to use- The syntax of Python languauge is versatile and user friendly. It has better readability as compared to other languages.\n",
    "##### (2) Open source- Python has an open source license and is available for users for free.\n",
    "##### (3) Easily portable- Python code once written can run in any platform unlike other programming languages.\n",
    "##### (4) Interpreted language- Python being an interpreted language executes code line by line. so if there's an error in any line it stops the execution there and points the error rather than executing the entire code.\n",
    "##### (5) Highest no. of Libraries- With these vast no. of libraries (Numpy, Pandas etc.) many applications and models can be created in a variety of fields.\n",
    "##### (6) Dynamically typed language- There is no need to mention data type, based on the value assigned it takes data type\n",
    "##### (7) Object-Oriented and Procedural  Programming language\n",
    "##### (8) Easy to integrate with other programming languages- Python is highly efficient and it can be integrated with C, C++, Java for cross platform development.\n",
    "##### (9) Ideal for prototypes – It provides more functionality with less coding\n",
    "##### (10) Internet of Things(IoT) Opportunities\n",
    "\n",
    "\n",
    " \n",
    "\n"
   ]
  },
  {
   "cell_type": "markdown",
   "id": "fbd53b7c-78d5-420e-8da6-f088c4f660f6",
   "metadata": {
    "jp-MarkdownHeadingCollapsed": true,
    "tags": []
   },
   "source": [
    "#### (14) Memory management in Python involves a private heap containing all Python objects and data structures. The management of this private heap is ensured internally by the Python memory manager. The Python memory manager has different components which deal with various dynamic storage management aspects, like sharing, segmentation, preallocation or caching.\n",
    "\n",
    "#### At the lowest level, a raw memory allocator ensures that there is enough room in the private heap for storing all Python-related data by interacting with the memory manager of the operating system. On top of the raw memory allocator, several object-specific allocators operate on the same heap and implement distinct memory management policies adapted to the peculiarities of every object type. For example, integer objects are managed differently within the heap than strings, tuples or dictionaries because integers imply different storage requirements and speed/space tradeoffs. The Python memory manager thus delegates some of the work to the object-specific allocators, but ensures that the latter operate within the bounds of the private heap."
   ]
  },
  {
   "cell_type": "markdown",
   "id": "3898bf09-160d-4a0f-a985-abbbc97d35d9",
   "metadata": {},
   "source": [
    "#### (15) Download python from the official website. After that, install it on your PC. Look for the location where PYTHON has been installed on your PC using the following command on your command prompt: cmd python. (to chech whether it has been installed or not)\n",
    "\n",
    "#### The Path variables can be set by the following steps-\n",
    "\n",
    "##### > Right-clicking This PC and going to Properties.\n",
    "##### > Clicking on the Advanced system settings in the menu on the left.\n",
    "##### > Clicking on the Environment Variables button on the bottom right.\n",
    "##### > In the System variables section, selecting the Path variable and clicking on Edit. The next screen will show all the directories that are currently a part of the PATH variable.\n",
    "##### > Clicking on New and entering Python’s install directory."
   ]
  },
  {
   "cell_type": "markdown",
   "id": "de95bee3-a8f0-4c1a-8008-c6e81693e346",
   "metadata": {},
   "source": [
    "#### 16) Yes indentation is important in Python. It is required in if-else statements, loops, function definitions etc. It is important for telling the interpreter that a group of statements belongs to a particular block of code."
   ]
  }
 ],
 "metadata": {
  "kernelspec": {
   "display_name": "Python 3 (ipykernel)",
   "language": "python",
   "name": "python3"
  },
  "language_info": {
   "codemirror_mode": {
    "name": "ipython",
    "version": 3
   },
   "file_extension": ".py",
   "mimetype": "text/x-python",
   "name": "python",
   "nbconvert_exporter": "python",
   "pygments_lexer": "ipython3",
   "version": "3.10.8"
  }
 },
 "nbformat": 4,
 "nbformat_minor": 5
}
