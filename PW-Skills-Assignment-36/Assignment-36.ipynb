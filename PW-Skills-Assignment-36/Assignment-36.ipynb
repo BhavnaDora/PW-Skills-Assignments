{
 "cells": [
  {
   "cell_type": "markdown",
   "id": "959ac09d-a7f6-4d5c-abe7-019b3f0847ed",
   "metadata": {},
   "source": [
    "#### (1)-"
   ]
  },
  {
   "cell_type": "code",
   "execution_count": 1,
   "id": "b42233ed-b28b-4d63-928c-c8c2c6479522",
   "metadata": {},
   "outputs": [
    {
     "name": "stdout",
     "output_type": "stream",
     "text": [
      "The margin of error is 1.7892270211835426\n",
      "Lower bound of confidence interval is 48.21077297881646\n",
      "Upper bound of confidence interval is 51.78922702118354\n"
     ]
    }
   ],
   "source": [
    "# sample standard deviation will be close to population standard deviation for samples of large size, let's take n= 30\n",
    "\n",
    "import numpy as np\n",
    "sample_mean= 50\n",
    "sample_std= 5\n",
    "n=30 \n",
    "CI= 0.95\n",
    "significance_level= 1-CI\n",
    "\n",
    "# Z score from z table corresponding to significance level= 0.05 i.e. AUc= 0.025 is-\n",
    "z= 1.96          # i.e. z = +- 1.96\n",
    "\n",
    "# calculating margin of error- \n",
    "MOE= z* (sample_std/np.sqrt(n))\n",
    "print(\"The margin of error is\", MOE)\n",
    "\n",
    "# calculating lower and upper bounds of confidence interval within which population mean will lie, we are 95% confident about it-\n",
    "lower_bound= sample_mean - MOE\n",
    "print(\"Lower bound of confidence interval is\", lower_bound)\n",
    "upper_bound= sample_mean + MOE\n",
    "print(\"Upper bound of confidence interval is\", upper_bound)"
   ]
  },
  {
   "cell_type": "markdown",
   "id": "f355df84-b724-4eba-8738-41853724fd34",
   "metadata": {},
   "source": [
    "#### (2)-\n",
    "##### Null hypothesis(H0)- The distribution of colours matches the expected distribution.\n",
    "##### Alternate hypothesis(H1)- The distribution of colours does not match the expected distribution."
   ]
  },
  {
   "cell_type": "code",
   "execution_count": 9,
   "id": "13a86077-6f40-4124-b24d-f65ee9ecb136",
   "metadata": {},
   "outputs": [
    {
     "name": "stdout",
     "output_type": "stream",
     "text": [
      "the critical value is 11.070497693516351\n",
      "the chi square value obrained from chi square goodness of fit test is 5.8\n",
      "Accept Null hypothesis\n"
     ]
    }
   ],
   "source": [
    "import scipy.stats as stat\n",
    "import numpy as np\n",
    "\n",
    "observed= [18, 22, 22, 15, 5, 18]          # sample\n",
    "expected= [20, 20, 20, 10, 10, 20]          # theory\n",
    "\n",
    "# finding critical value-\n",
    "significance_level= 0.05\n",
    "confidence_level= 1-significance_level\n",
    "df= len(expected)-1\n",
    "critical_value= stat.chi2.ppf(confidence_level,df)\n",
    "print(\"the critical value is\", critical_value)\n",
    "\n",
    "#finding chi square and p value from test statistics-\n",
    "chi_square, p_value= stat.chisquare(observed, expected)\n",
    "print(\"the chi square value obrained from chi square goodness of fit test is\", chi_square)\n",
    "\n",
    "if chi_square < critical_value:\n",
    "    print(\"Accept Null hypothesis\")\n",
    "else:\n",
    "    print(\"Reject Null hypothesis\")"
   ]
  },
  {
   "cell_type": "markdown",
   "id": "bba520ce-e006-4050-852a-573c12b2d378",
   "metadata": {},
   "source": [
    "#### (3)-\n",
    "##### Null hypothesis(H0)- There is no relation between the variables\n",
    "##### Alternate hypothesis(H1)- There is significant relation between variables"
   ]
  },
  {
   "cell_type": "code",
   "execution_count": 2,
   "id": "198dc1fa-f4f4-4fdb-8e95-bf93565833fc",
   "metadata": {},
   "outputs": [
    {
     "name": "stdout",
     "output_type": "stream",
     "text": [
      "Fail to reject Null hypothesis\n"
     ]
    }
   ],
   "source": [
    "from scipy.stats import chi2_contingency\n",
    "# defining the table given in ques-\n",
    "data= [[20,15],[10,25],[15,20]]\n",
    "alpha= 0.05\n",
    "\n",
    "chi_square_value, p, df, expected= chi2_contingency(data)\n",
    "if p < alpha:\n",
    "    print(\"Reject Null hypothesis\")\n",
    "else:\n",
    "    print(\"Fail to reject Null hypothesis\")"
   ]
  },
  {
   "cell_type": "markdown",
   "id": "3b484aef-4d24-4bed-84f4-ef0d094599f1",
   "metadata": {},
   "source": [
    "#### (4)-\n",
    "##### As it is a proportion problem so we consider binomial distribution."
   ]
  },
  {
   "cell_type": "code",
   "execution_count": 11,
   "id": "8ba1a755-c540-4dd2-9027-1af5f945648e",
   "metadata": {},
   "outputs": [
    {
     "name": "stdout",
     "output_type": "stream",
     "text": [
      "the error bound for proportion is 0.028484134531349202\n",
      "the lower bound of confidence interval is 0.09151586546865079\n",
      "the upper bound of confidence interval is 0.1484841345313492\n"
     ]
    }
   ],
   "source": [
    "import numpy as np\n",
    "n= 500             # sample size\n",
    "x= 60              # these many smoke\n",
    "significance_level= 0.05\n",
    "\n",
    "p_prime= x/n           # probability of success\n",
    "q_prime= 1-p_prime           # probability of failure\n",
    "\n",
    "# corresponding to signifiance level of 0.05 i.e. AUC= 0.025, z score is-\n",
    "z= 1.96\n",
    "\n",
    "# calculation error bound for proportion-\n",
    "EBP= z*np.sqrt((p_prime*q_prime)/n)\n",
    "print(\"the error bound for proportion is\", EBP)\n",
    "\n",
    "# calculating lower and upper bounds of confidence interval-\n",
    "lower_bound= p_prime - EBP\n",
    "print(\"the lower bound of confidence interval is\", lower_bound)\n",
    "upper_bound= p_prime + EBP\n",
    "print(\"the upper bound of confidence interval is\", upper_bound)"
   ]
  },
  {
   "cell_type": "markdown",
   "id": "f64199cb-6f80-41e8-978b-a43509b53017",
   "metadata": {},
   "source": [
    "#### (5)-"
   ]
  },
  {
   "cell_type": "code",
   "execution_count": 12,
   "id": "6f0ad66f-0713-46a8-8270-15558809149b",
   "metadata": {},
   "outputs": [
    {
     "name": "stdout",
     "output_type": "stream",
     "text": [
      "the margin of error is 3.593059977233889\n",
      "the lower bound of confidence interval is 71.40694002276611\n",
      "the upper bound of confidence interval is 78.59305997723389\n"
     ]
    }
   ],
   "source": [
    "import numpy as np\n",
    "sample_mean= 75\n",
    "sample_std= 12\n",
    "n= 30            # sample size\n",
    "CI= 0.90\n",
    "significance_level= 1-CI\n",
    "\n",
    "# from z table, z score corresponding to significance level of 0.10 i.e. AUC= 0.05 is-\n",
    "z= 1.64            # i.e. z= +- 1.64\n",
    "\n",
    "#calculating margin of error-\n",
    "MOE= z* (sample_std/np.sqrt(n))\n",
    "print(\"the margin of error is\", MOE)\n",
    "\n",
    "# calculating lower and upper bounds of confidence interval-\n",
    "lower_bound= sample_mean - MOE\n",
    "print(\"the lower bound of confidence interval is\", lower_bound)\n",
    "upper_bound= sample_mean + MOE\n",
    "print(\"the upper bound of confidence interval is\", upper_bound)"
   ]
  },
  {
   "cell_type": "markdown",
   "id": "1c74daba-b563-46eb-82b7-47e4537a08fd",
   "metadata": {},
   "source": [
    "#### (6)-"
   ]
  },
  {
   "cell_type": "code",
   "execution_count": 17,
   "id": "e9910372-6c41-4edb-b9e4-73ea1661b523",
   "metadata": {},
   "outputs": [
    {
     "data": {
      "image/png": "[encoded data removed]",
      "text/plain": [
       "<Figure size 600x600 with 1 Axes>"
      ]
     },
     "metadata": {},
     "output_type": "display_data"
    }
   ],
   "source": [
    "import numpy as np\n",
    "from scipy.stats import chi2\n",
    "import matplotlib.pyplot as plt\n",
    "\n",
    "x= np.linspace(0,30,200)\n",
    "df= 10                       # degree of freedom\n",
    "\n",
    "plt.figure(figsize=(6,6))\n",
    "plt.plot(x, chi2.pdf(x, df))\n",
    "# sahding the area corresponding to a chi-square statistic of 15-\n",
    "x_shade= np.linspace(15,30,200)\n",
    "plt.fill_between(x_shade, chi2.pdf(x_shade, df), color=\"red\", alpha= 0.3)\n",
    "plt.xlabel(\"chi square statistic\")\n",
    "plt.ylabel(\"probability density\")\n",
    "plt.title(\"chi square distribution with df=10\")\n",
    "plt.show()"
   ]
  },
  {
   "cell_type": "markdown",
   "id": "4ec452ee-fd43-4264-bfff-3d191ed86963",
   "metadata": {},
   "source": [
    "#### (7)-\n",
    "##### As it is a proportion problem so we consider binomial distribution."
   ]
  },
  {
   "cell_type": "code",
   "execution_count": 18,
   "id": "3c05c0fe-0f8e-4e78-9a38-1a72735a40f7",
   "metadata": {},
   "outputs": [
    {
     "name": "stdout",
     "output_type": "stream",
     "text": [
      "the error bound for proportion is 0.04060274670511836\n",
      "the lower bound of confidence interval is 0.47939725329488164\n",
      "the upper bound of confidence interval is 0.5606027467051183\n"
     ]
    }
   ],
   "source": [
    "import numpy as np\n",
    "n= 1000            # this is sample size\n",
    "x= 520             # these many people prefer coke\n",
    "CI= 0.99\n",
    "significance_level= 0.01\n",
    "\n",
    "p_prime= x/n         # sample proportion\n",
    "q_prime= 1-p_prime\n",
    "\n",
    "# from z table, z score corresponding to significance level of 0.01 i.e. AUC = 0.005 is-\n",
    "z= 2.57        # i.e. z= +-2.57\n",
    "\n",
    "# calculationg error bound for proportion-\n",
    "EBP= z* np.sqrt((p_prime*q_prime)/n)\n",
    "print(\"the error bound for proportion is\", EBP)\n",
    "\n",
    "# calculating lower and upper bounds of confidence interval-\n",
    "lower_bound= p_prime - EBP\n",
    "print(\"the lower bound of confidence interval is\", lower_bound)\n",
    "upper_bound= p_prime + EBP\n",
    "print(\"the upper bound of confidence interval is\", upper_bound)"
   ]
  },
  {
   "cell_type": "markdown",
   "id": "2527e45c-a314-4464-b51b-cbd4d48300ea",
   "metadata": {},
   "source": [
    "#### (8)-\n",
    "##### Null hypothesis(H0)- The observed frequencies match the expected frequencies of a fair coin.\n",
    "##### Alternate hypothesis(H1)- The observed frequencies do not match the expected frequencies of a fair coin."
   ]
  },
  {
   "cell_type": "code",
   "execution_count": 20,
   "id": "1a177e31-e0f3-455c-86e2-cd00946aaa93",
   "metadata": {},
   "outputs": [
    {
     "name": "stdout",
     "output_type": "stream",
     "text": [
      "100 100\n"
     ]
    }
   ],
   "source": [
    "import numpy as np\n",
    "import scipy.stats as stat\n",
    "\n",
    "n= 100\n",
    "obs_tails= 45\n",
    "obs_heads= n- obs_tails\n",
    "observed_data= [45,55]            # this is sample\n",
    "expected_data= [50,50]            # this is theory for a fair coin\n",
    "\n",
    "# the sum of values in observed data and expected data must be equal\n",
    "print(sum(observed_data), sum(expected_data))"
   ]
  },
  {
   "cell_type": "code",
   "execution_count": 21,
   "id": "6831f73a-e73a-4659-a883-115177211083",
   "metadata": {},
   "outputs": [
    {
     "name": "stdout",
     "output_type": "stream",
     "text": [
      "the critical value is 5.991464547107979\n",
      "the chi square value from goodness of fit test statistics is 1.0\n",
      "Accept the Null hypothesis\n"
     ]
    }
   ],
   "source": [
    "# calculating the critical value-\n",
    "significance_level= 0.05\n",
    "df= len(observed_data)\n",
    "confidence_level= 1-significance_level\n",
    "critical_value= stat.chi2.ppf(confidence_level, df)\n",
    "print(\"the critical value is\", critical_value)\n",
    "\n",
    "#calculating chi square from test statistics-\n",
    "chi_square, p_value= stat.chisquare(observed_data, expected_data)\n",
    "print(\"the chi square value from goodness of fit test statistics is\", chi_square)\n",
    "\n",
    "# checking whether to accept or reject null hypothesis-\n",
    "if chi_square < critical_value:\n",
    "    print(\"Accept the Null hypothesis\")\n",
    "else:\n",
    "    print(\"Reject the Null hypothesis\")"
   ]
  },
  {
   "cell_type": "markdown",
   "id": "77671acf-8dc2-4821-83bd-30e1c224460c",
   "metadata": {},
   "source": [
    "#### (9)-\n",
    "##### We are going to perform a chi square contingency test\n",
    "##### Null hypothesis(H0)- There is no association between smoking status and lung cancer diagnosis.\n",
    "##### Alternate hypothesis(H1)- There is a significant association between smoking status and lung cancer diagnosis."
   ]
  },
  {
   "cell_type": "code",
   "execution_count": 24,
   "id": "40646d5c-5450-44e5-a094-09ec9002a0fa",
   "metadata": {},
   "outputs": [
    {
     "name": "stdout",
     "output_type": "stream",
     "text": [
      "the chi square value for independence test is 12.057347670250895\n",
      "the p value is 0.0005158863863703744\n",
      "the critical value is 3.841458820694124\n",
      "Reject the Null hypothesis\n"
     ]
    }
   ],
   "source": [
    "from scipy.stats import chi2_contingency, chi2\n",
    "observed_data= [[60,140], [30,170]]\n",
    "significance_level= 0.05\n",
    "\n",
    "# calculating chi square, p value, degree of freedom, expected data from chi2_contingency function-\n",
    "chi_square, p_value, df, expected_data= chi2_contingency(observed_data)\n",
    "print(\"the chi square value for independence test is\", chi_square)\n",
    "print(\"the p value is\", p_value)\n",
    "\n",
    "#calculating critical value from chi square table-\n",
    "critical_value= chi2.ppf(1-significance_level, df)\n",
    "print(\"the critical value is\", critical_value)\n",
    "\n",
    "# checking whether to accept or reject the null hypothesis-\n",
    "if chi_square < critical_value:\n",
    "    print(\"Accept the Null hypothesis\")\n",
    "else:\n",
    "    print(\"Reject the Null hypothesis\")"
   ]
  },
  {
   "cell_type": "markdown",
   "id": "65b03ca8-dfc1-44d7-8bc1-97febbdc63f2",
   "metadata": {},
   "source": [
    "#### (10)- \n",
    "##### We are going to perform a chi square test for independence\n",
    "##### Null hypothesis(H0)- There is no association between chocolate preference and country of origin\n",
    "##### Alternate hypothesis(H1)- There is a significant association between chocolate preference and country of origin."
   ]
  },
  {
   "cell_type": "code",
   "execution_count": 25,
   "id": "6fa292da-4ab3-4f47-b076-913b184c7f07",
   "metadata": {},
   "outputs": [
    {
     "name": "stdout",
     "output_type": "stream",
     "text": [
      "the chi square value for independence test is 13.393665158371041\n",
      "the p value is 0.0012348168997745918\n",
      "the critical value is 9.21034037197618\n",
      "Reject the Null hypothesis\n"
     ]
    }
   ],
   "source": [
    "from scipy.stats import chi2_contingency, chi2\n",
    "\n",
    "observed_data= [[200,150,150], [225,175,100]]\n",
    "significance_level= 0.01\n",
    "\n",
    "# calculating chi square, p value, df, expected data using chi2_contingency function-\n",
    "chi_square, p_value, df, expected_data= chi2_contingency(observed_data)\n",
    "print(\"the chi square value for independence test is\", chi_square)\n",
    "print(\"the p value is\", p_value)\n",
    "\n",
    "# calculating the critical value-\n",
    "critical_value= chi2.ppf(1-significance_level, df)\n",
    "print(\"the critical value is\", critical_value)\n",
    "\n",
    "# checking if we accpet or reject null hypothesis-\n",
    "if chi_square < critical_value:\n",
    "    print(\"Accept the Null hypothesis\")\n",
    "else:\n",
    "    print(\"Reject the Null hypothesis\")"
   ]
  },
  {
   "cell_type": "markdown",
   "id": "38d3a549-3f5b-4cdb-8d68-3d39935fdb9e",
   "metadata": {},
   "source": [
    "#### (11)-\n",
    "##### Null hypothesis(H0)- The population mean is not different from 70 i.e. mean=70\n",
    "##### Alternate hypothesis(H1)- The population mean is significantly different from 70\n",
    "##### As we don't know population standard devaition we use T-test(2 tailed). But we can also use z test with sample standard deviation for large samples."
   ]
  },
  {
   "cell_type": "code",
   "execution_count": 26,
   "id": "2d17405c-ebc1-4764-ae6b-f002cbbd3120",
   "metadata": {},
   "outputs": [
    {
     "name": "stdout",
     "output_type": "stream",
     "text": [
      "t value from t test statistics is 1.0954451150103321\n",
      "Accept Null hypothesis\n"
     ]
    }
   ],
   "source": [
    "import numpy as np\n",
    "n= 30        # sample size\n",
    "population_mean= 70\n",
    "sample_mean= 72\n",
    "sample_std= 10\n",
    "significance_level= 0.05\n",
    "df= n-1\n",
    "\n",
    "# t value from t table for 2 tailed test corresponding to significance value of 0.05 and degree of freedom= 29 is-\n",
    "t_table_value= 2.045\n",
    "\n",
    "# t value from t test statistics-\n",
    "t= (sample_mean - population_mean)/(sample_std/np.sqrt(n))\n",
    "print(\"t value from t test statistics is\", t)\n",
    "\n",
    "# checking whether we accept or reject null hypothesis-\n",
    "if t < t_table_value:\n",
    "    print(\"Accept Null hypothesis\")\n",
    "else:\n",
    "    print(\"Reject Null hypothesis\")"
   ]
  },
  {
   "cell_type": "markdown",
   "id": "2e32aa7a-d78b-42d1-b401-3404a193357e",
   "metadata": {},
   "source": [
    "##### This means the population mean does not vary much from 70. "
   ]
  },
  {
   "cell_type": "code",
   "execution_count": null,
   "id": "afca428c-bd27-4668-af3b-7608c702e9fd",
   "metadata": {},
   "outputs": [],
   "source": []
  }
 ],
 "metadata": {
  "kernelspec": {
   "display_name": "Python 3 (ipykernel)",
   "language": "python",
   "name": "python3"
  },
  "language_info": {
   "codemirror_mode": {
    "name": "ipython",
    "version": 3
   },
   "file_extension": ".py",
   "mimetype": "text/x-python",
   "name": "python",
   "nbconvert_exporter": "python",
   "pygments_lexer": "ipython3",
   "version": "3.10.8"
  }
 },
 "nbformat": 4,
 "nbformat_minor": 5
}
