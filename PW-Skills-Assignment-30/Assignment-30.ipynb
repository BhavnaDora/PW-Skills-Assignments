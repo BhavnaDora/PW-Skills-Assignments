{
 "cells": [
  {
   "cell_type": "markdown",
   "id": "b4a7c74a-fa62-40f8-88ed-3cc85d4d4e08",
   "metadata": {},
   "source": [
    "#### (1)-\n",
    "##### Statistics is the science of collecting, organizing and analyzing data."
   ]
  },
  {
   "cell_type": "markdown",
   "id": "41db03bf-6677-4e18-84ef-491c69121750",
   "metadata": {},
   "source": [
    "#### (2)-\n",
    "##### There are 2 types of statistics-\n",
    "##### Descriptive statistics- It consists of organizing and summarizing the data. A lot of techniques are used to derive information from data and summarization tools like histogram, probability density function etc. are used. Descriptive statistics consists of measures of central tendency and measures of dispersion. Ex) Descriptive statistics can be used to find mean height of students of a class, the most common height of the class etc.\n",
    "##### Inferential statistics- It consists of using the data measured to draw conclusions. We usually have sample dataset and we perform experiments on it to derive conclusion for the population dataset. We use tests like Z test, t test and techniques like Hypothesis testing etc. Ex) Inferential statistics can be used to form conclusion about the mean height of a student in university, based on the sample dataset of the heights of a class. "
   ]
  },
  {
   "cell_type": "markdown",
   "id": "f41b242d-9bd9-4716-a44d-062a38725652",
   "metadata": {},
   "source": [
    "#### (3)-\n",
    "##### Data is of 2 types- Quantitative data and Qualitative data\n",
    "##### Quantitative data, also called numerical data, is further classified into- Discrete and Continuous.\n",
    "##### Discrete- They are usually whole numbers with fixed values obtained by counting. Their values lie in a specific range. Ex) Number of bank accounts, Number of children in a family etc.\n",
    "##### Continuous- They take any value. Ex) weight, height, speed of a vehicle etc.\n",
    "##### Qualitative data, also called categorical data, is further classified into- Nominal and Ordinal.\n",
    "##### Nominal- It is type of categorical data where the values are not provided any rank or order. Ex) Blood groups, Genders, Marital status etc.\n",
    "##### Ordinal- It is type of categorical data where the values are provided rank and order. Ex) Reviews like Good, Satisfactory and Bad- we can assign rank to these values."
   ]
  },
  {
   "cell_type": "markdown",
   "id": "6cbe9d42-76fa-4cb9-aa69-f3a6af64df02",
   "metadata": {},
   "source": [
    "#### (4)-\n",
    "##### (i) Grading in exam: A+, A, B+, B, C+, C, D, E- it is Qualitative- Ordinal data type\n",
    "##### (ii) Colour of mangoes: yellow, green, orange, red- it is Qualitative- Nominal data type\n",
    "##### (iii) Height data of a class: [178.9, 179, 179.5, 176, 177.2, 178.3, 175.8,...]- it is Quantitative- Continuous data type\n",
    "##### (iv) Number of mangoes exported by a farm: [500, 600, 478, 672, ...]- it is Quantitative- Continuous data type"
   ]
  },
  {
   "cell_type": "markdown",
   "id": "9ece61fb-2d87-4709-a6cf-d4a0da791613",
   "metadata": {},
   "source": [
    "#### (5)-\n",
    "##### There are 4 levels/scales of measurement of data-\n",
    "##### Nominal scale- The data measured with this scale belongs to Categorical data. Order and rank is not given here. Ex) Blood groups of different people, Colour prefered by some people in a survey etc. Here more focus is on the count or distribution part of the data. \n",
    "##### Ordinal scale- The data measured with this scale belongs to Categorical data. Order and rank matters here. Ex) Grades acquired by students of a class- it is categorical data and we can give rank and order to them. \n",
    "##### Interval scale- The data measured with this scale is numerical data. The data can be ordered and ranked. Differences between the values can also be measured excluding the ratio. The data doesn't has a 0 starting value. Ex) If we have a dataset containing IQs of students of a class. We can order and rank the IQs, we can find the difference between the values too. But ratio won't be measured because if a student has IQ 100 and another has IQ 50, ratio between them is 2:1 which doesn't justify that the first student is twice smarter than the second student.\n",
    "##### Ratio scale- The data measured with this scale is numerical data. It can be ranked and ordered and the differences as well as ratio can be measured. The data here has a 0 starting value too. Ex) The marks obtained by students in a class- The marks can be ordered and ranked and differences between different marks can be found. The ratio also can be measured for ex- 100/50 = 2:1 so we can say that the first student got twice the marks as the second student. Marks can start from 0 too."
   ]
  },
  {
   "cell_type": "markdown",
   "id": "cd9a255c-fb98-4b69-acdd-33d5b0ca00a5",
   "metadata": {},
   "source": [
    "#### (6)- \n",
    "##### While data collection, we will come across different types of data, at that time we should know which scales should we use to measure them. It is important to know the levels of measurement because that determines the type of statistical analysis to be conducted and type of conclusions to be drawn. For ex) if we classify our data at the ordinal level of measurement, we know that we can evaluate how items compare to each other based on a specific hierarchy. If we wanted to analyze the exact distance between items rather than understand only how they compare to one another, we might want to rely on data at the interval level of measurement."
   ]
  },
  {
   "cell_type": "markdown",
   "id": "3d887950-a104-45f0-ae80-d92cbb653faa",
   "metadata": {},
   "source": [
    "#### (7)-\n",
    "##### Nominal- It is type of categorical data where the values are not provided any rank or order. Whereas Ordinal- It is categorical data where the values can be ranked and ordered. Ordinal data is analyzed by mode, median, quartiles, and percentile, whereas nominal data is analyzed by grouping variables into categories and calculating the distribution mode. \n",
    "##### Ex of Nominal data- marital status, blood group, colour of eyes. Ex of ordinal data- Reiews, Qualification degrees etc"
   ]
  },
  {
   "cell_type": "markdown",
   "id": "5711d863-18b2-41d9-80fb-880a4adc9eb9",
   "metadata": {},
   "source": [
    "#### (8)-\n",
    "##### If we have data in continuous numeric ranges then we can plot histogram for the data. The range will be depicted by the bin size."
   ]
  },
  {
   "cell_type": "markdown",
   "id": "8374b8bf-a366-4916-b015-44abaed2ec5f",
   "metadata": {},
   "source": [
    "#### (9)-\n",
    "##### Descriptive statistics deals with organizing and summarizing data. It helps to present our raw data in an effective/meaningful way using numerical calculations and summarization tools. This type of statistics is applied to already known data. \n",
    "##### Inferential statsitics deals with taking a random sample of data from a population and deriving conclusuions about the population. It makes use of many tests and hypothesis. \n",
    "##### Differential statistics helps in organizing, analyzing and presenting data in a meaningful way , on the other hand Inferential statistics allows to compare data and make predictions, hypotheses.\n",
    "##### Descriptive stats works on already known data i.e. the sample data, but Inferential stats uses sample data to reach conclusions about the population.\n",
    "##### Ex) We have the test scores of students of a class. We can measure the mean, median, mode, variance, standard deviation. All these basically are the descriptive stats of the data. Now for inferential stats we need to define our population and draw a random sample from it. Let the population data be the students of the same class but all over the state. Let a random sample of 100 students be drawn from this. Then we calculate all the mean, median etc. If the values are near to the one we got in descriptive stats then we can conclude that we got similar trends in the population."
   ]
  },
  {
   "cell_type": "markdown",
   "id": "712eeb14-c5cc-4577-8d9d-e79063a7bc2b",
   "metadata": {},
   "source": [
    "#### (10)-\n",
    "##### Common measures of central tendency are- Mean, Median, Mode. Each of them calculate where the centre of the dataset lies. It is the point where most values of the distribution fall. Choosing the best measure of central tendency depends on the dataset we have. If our dataset is free of outliers we go with mean, if our dataset has outliers we choose median. If our dataset has NaN values we choose mode and fill these NaN values. \n",
    "##### Common measures of variability are- Variance, Standard deviation. Variance basically tells us about the spread of the data, i.e. how far from the centre does the data extend to. A low dispersion indicates that the values cluster more tightly around the center. Higher dispersion signifies that data points fall further away from the center. Standard deviation is also a measure of dispersion. Most data lies within 3 standard deviations from the mean."
   ]
  },
  {
   "cell_type": "code",
   "execution_count": null,
   "id": "d114d6b4-bc4c-42f5-95c6-479b4b87cfc6",
   "metadata": {},
   "outputs": [],
   "source": []
  }
 ],
 "metadata": {
  "kernelspec": {
   "display_name": "Python 3 (ipykernel)",
   "language": "python",
   "name": "python3"
  },
  "language_info": {
   "codemirror_mode": {
    "name": "ipython",
    "version": 3
   },
   "file_extension": ".py",
   "mimetype": "text/x-python",
   "name": "python",
   "nbconvert_exporter": "python",
   "pygments_lexer": "ipython3",
   "version": "3.10.8"
  }
 },
 "nbformat": 4,
 "nbformat_minor": 5
}
