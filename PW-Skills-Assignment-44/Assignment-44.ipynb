{
 "cells": [
  {
   "cell_type": "markdown",
   "id": "4d85a2a1-0890-478a-b4dc-48eff164a4a6",
   "metadata": {},
   "source": [
    "#### (1)-\n",
    "##### Label encoding assigns an unique numerical value/label to each category of the categorical variable based on alphabetical order or frequncy of the categories. But label encoding makes the model biased to think that the category encoded with a higher numerical value is important than a category encoded with lower numerical value. So, label encoding should be used for nominal type data which don't have rank. \n",
    "##### Ordinal encoding is used to encode categorical data that have an intrinsic order or ranking. In this technique each category is assigned a numerical value based on its position in the order. \n",
    "##### Label encoding is used for target variable which is categorical. Ordinal encoding is used for categorical features.\n",
    "##### Example- If we have a dataset with size as a categorical variable, then we should use ordinal encoding because here the categories like small, medium, large all are ordinal data types i.e. they can be ranked."
   ]
  },
  {
   "cell_type": "code",
   "execution_count": 1,
   "id": "7547d0a8-2302-4315-8383-c22171df0894",
   "metadata": {},
   "outputs": [
    {
     "data": {
      "text/html": [
       "<div>\n",
       "<style scoped>\n",
       "    .dataframe tbody tr th:only-of-type {\n",
       "        vertical-align: middle;\n",
       "    }\n",
       "\n",
       "    .dataframe tbody tr th {\n",
       "        vertical-align: top;\n",
       "    }\n",
       "\n",
       "    .dataframe thead th {\n",
       "        text-align: right;\n",
       "    }\n",
       "</style>\n",
       "<table border=\"1\" class=\"dataframe\">\n",
       "  <thead>\n",
       "    <tr style=\"text-align: right;\">\n",
       "      <th></th>\n",
       "      <th>size</th>\n",
       "    </tr>\n",
       "  </thead>\n",
       "  <tbody>\n",
       "    <tr>\n",
       "      <th>0</th>\n",
       "      <td>small</td>\n",
       "    </tr>\n",
       "    <tr>\n",
       "      <th>1</th>\n",
       "      <td>medium</td>\n",
       "    </tr>\n",
       "    <tr>\n",
       "      <th>2</th>\n",
       "      <td>large</td>\n",
       "    </tr>\n",
       "    <tr>\n",
       "      <th>3</th>\n",
       "      <td>medium</td>\n",
       "    </tr>\n",
       "    <tr>\n",
       "      <th>4</th>\n",
       "      <td>small</td>\n",
       "    </tr>\n",
       "    <tr>\n",
       "      <th>5</th>\n",
       "      <td>large</td>\n",
       "    </tr>\n",
       "  </tbody>\n",
       "</table>\n",
       "</div>"
      ],
      "text/plain": [
       "     size\n",
       "0   small\n",
       "1  medium\n",
       "2   large\n",
       "3  medium\n",
       "4   small\n",
       "5   large"
      ]
     },
     "execution_count": 1,
     "metadata": {},
     "output_type": "execute_result"
    }
   ],
   "source": [
    "import pandas as pd\n",
    "df= pd.DataFrame({\"size\": [\"small\", \"medium\", \"large\", \"medium\", \"small\", \"large\"]})\n",
    "df"
   ]
  },
  {
   "cell_type": "code",
   "execution_count": 3,
   "id": "51500039-cd94-4be4-bcbd-f0d2bcc42340",
   "metadata": {},
   "outputs": [
    {
     "data": {
      "text/plain": [
       "array([[0.],\n",
       "       [1.],\n",
       "       [2.],\n",
       "       [1.],\n",
       "       [0.],\n",
       "       [2.]])"
      ]
     },
     "execution_count": 3,
     "metadata": {},
     "output_type": "execute_result"
    }
   ],
   "source": [
    "# creating instance of OrdinalEncoder-\n",
    "from sklearn.preprocessing import OrdinalEncoder\n",
    "or_encoder= OrdinalEncoder(categories=[[\"small\", \"medium\", \"large\"]])\n",
    "\n",
    "#performing fit and transform-\n",
    "or_encoder.fit_transform(df[[\"size\"]])"
   ]
  },
  {
   "cell_type": "markdown",
   "id": "58d6d823-dcee-44bd-90f6-ff74720e0982",
   "metadata": {},
   "source": [
    "#### (2)-\n",
    "##### Target Guided Ordinal Encoding is a technique used to encode categorical variable based on their relationship with the target variable. This encoding technique is useful when we have a categorical variable with a large number of unique categories. We replace each category in the categorical variable with a numerical value based on the mean or median of the target variable for that category. This creates a monotonic relationship between the categorical variable and the target variable which can improve the predictive power of our model."
   ]
  },
  {
   "cell_type": "code",
   "execution_count": 4,
   "id": "a724ca7d-2587-49fd-b3b4-daa0d4206857",
   "metadata": {},
   "outputs": [
    {
     "data": {
      "text/html": [
       "<div>\n",
       "<style scoped>\n",
       "    .dataframe tbody tr th:only-of-type {\n",
       "        vertical-align: middle;\n",
       "    }\n",
       "\n",
       "    .dataframe tbody tr th {\n",
       "        vertical-align: top;\n",
       "    }\n",
       "\n",
       "    .dataframe thead th {\n",
       "        text-align: right;\n",
       "    }\n",
       "</style>\n",
       "<table border=\"1\" class=\"dataframe\">\n",
       "  <thead>\n",
       "    <tr style=\"text-align: right;\">\n",
       "      <th></th>\n",
       "      <th>city</th>\n",
       "      <th>price</th>\n",
       "    </tr>\n",
       "  </thead>\n",
       "  <tbody>\n",
       "    <tr>\n",
       "      <th>0</th>\n",
       "      <td>New York</td>\n",
       "      <td>200</td>\n",
       "    </tr>\n",
       "    <tr>\n",
       "      <th>1</th>\n",
       "      <td>London</td>\n",
       "      <td>150</td>\n",
       "    </tr>\n",
       "    <tr>\n",
       "      <th>2</th>\n",
       "      <td>Paris</td>\n",
       "      <td>300</td>\n",
       "    </tr>\n",
       "    <tr>\n",
       "      <th>3</th>\n",
       "      <td>Tokyo</td>\n",
       "      <td>250</td>\n",
       "    </tr>\n",
       "    <tr>\n",
       "      <th>4</th>\n",
       "      <td>New York</td>\n",
       "      <td>180</td>\n",
       "    </tr>\n",
       "    <tr>\n",
       "      <th>5</th>\n",
       "      <td>Paris</td>\n",
       "      <td>320</td>\n",
       "    </tr>\n",
       "  </tbody>\n",
       "</table>\n",
       "</div>"
      ],
      "text/plain": [
       "       city  price\n",
       "0  New York    200\n",
       "1    London    150\n",
       "2     Paris    300\n",
       "3     Tokyo    250\n",
       "4  New York    180\n",
       "5     Paris    320"
      ]
     },
     "execution_count": 4,
     "metadata": {},
     "output_type": "execute_result"
    }
   ],
   "source": [
    "# example-\n",
    "# creating a sample data frame-\n",
    "import pandas as pd\n",
    "df1= pd.DataFrame({\"city\": [\"New York\", \"London\", \"Paris\", \"Tokyo\", \"New York\", \"Paris\"],\n",
    "                   \"price\": [200, 150, 300, 250, 180, 320]})\n",
    "df1"
   ]
  },
  {
   "cell_type": "code",
   "execution_count": 6,
   "id": "b5312072-661f-453e-b0f0-bd5a6541bc7a",
   "metadata": {},
   "outputs": [
    {
     "data": {
      "text/plain": [
       "city\n",
       "London      150.0\n",
       "New York    190.0\n",
       "Paris       310.0\n",
       "Tokyo       250.0\n",
       "Name: price, dtype: float64"
      ]
     },
     "execution_count": 6,
     "metadata": {},
     "output_type": "execute_result"
    }
   ],
   "source": [
    "df1.groupby(\"city\")[\"price\"].mean()"
   ]
  },
  {
   "cell_type": "code",
   "execution_count": 7,
   "id": "c58f434e-ef48-489b-a43b-04f222728e9e",
   "metadata": {},
   "outputs": [
    {
     "data": {
      "text/plain": [
       "{'London': 150.0, 'New York': 190.0, 'Paris': 310.0, 'Tokyo': 250.0}"
      ]
     },
     "execution_count": 7,
     "metadata": {},
     "output_type": "execute_result"
    }
   ],
   "source": [
    "mean_price= df1.groupby(\"city\")[\"price\"].mean().to_dict()\n",
    "mean_price"
   ]
  },
  {
   "cell_type": "code",
   "execution_count": 8,
   "id": "5962d208-94ad-4b7f-9d9b-2851e4e016d7",
   "metadata": {},
   "outputs": [
    {
     "data": {
      "text/html": [
       "<div>\n",
       "<style scoped>\n",
       "    .dataframe tbody tr th:only-of-type {\n",
       "        vertical-align: middle;\n",
       "    }\n",
       "\n",
       "    .dataframe tbody tr th {\n",
       "        vertical-align: top;\n",
       "    }\n",
       "\n",
       "    .dataframe thead th {\n",
       "        text-align: right;\n",
       "    }\n",
       "</style>\n",
       "<table border=\"1\" class=\"dataframe\">\n",
       "  <thead>\n",
       "    <tr style=\"text-align: right;\">\n",
       "      <th></th>\n",
       "      <th>city</th>\n",
       "      <th>price</th>\n",
       "      <th>city_encoded</th>\n",
       "    </tr>\n",
       "  </thead>\n",
       "  <tbody>\n",
       "    <tr>\n",
       "      <th>0</th>\n",
       "      <td>New York</td>\n",
       "      <td>200</td>\n",
       "      <td>190.0</td>\n",
       "    </tr>\n",
       "    <tr>\n",
       "      <th>1</th>\n",
       "      <td>London</td>\n",
       "      <td>150</td>\n",
       "      <td>150.0</td>\n",
       "    </tr>\n",
       "    <tr>\n",
       "      <th>2</th>\n",
       "      <td>Paris</td>\n",
       "      <td>300</td>\n",
       "      <td>310.0</td>\n",
       "    </tr>\n",
       "    <tr>\n",
       "      <th>3</th>\n",
       "      <td>Tokyo</td>\n",
       "      <td>250</td>\n",
       "      <td>250.0</td>\n",
       "    </tr>\n",
       "    <tr>\n",
       "      <th>4</th>\n",
       "      <td>New York</td>\n",
       "      <td>180</td>\n",
       "      <td>190.0</td>\n",
       "    </tr>\n",
       "    <tr>\n",
       "      <th>5</th>\n",
       "      <td>Paris</td>\n",
       "      <td>320</td>\n",
       "      <td>310.0</td>\n",
       "    </tr>\n",
       "  </tbody>\n",
       "</table>\n",
       "</div>"
      ],
      "text/plain": [
       "       city  price  city_encoded\n",
       "0  New York    200         190.0\n",
       "1    London    150         150.0\n",
       "2     Paris    300         310.0\n",
       "3     Tokyo    250         250.0\n",
       "4  New York    180         190.0\n",
       "5     Paris    320         310.0"
      ]
     },
     "execution_count": 8,
     "metadata": {},
     "output_type": "execute_result"
    }
   ],
   "source": [
    "df1[\"city_encoded\"]= df1[\"city\"].map(mean_price)\n",
    "df1"
   ]
  },
  {
   "cell_type": "code",
   "execution_count": 9,
   "id": "eaf7cd9a-fd9e-4838-8373-a2473701a7b0",
   "metadata": {},
   "outputs": [],
   "source": [
    "# so instead of the city categorical column we will now use city_encoded column to train our ML model."
   ]
  },
  {
   "cell_type": "markdown",
   "id": "d36df9bd-baa9-444d-b06f-2effb54c08d7",
   "metadata": {},
   "source": [
    "#### (3)-\n",
    "##### Covariance ia a measure of joint variability of 2 random variables. Covariance is a measure of the relationship between two random variables and to what extent, they change together. It is important because it helps us in understanding the relationship between the random variables. The numerical value of covariance has no importance; only the sign is relevant.\n",
    "- If cov(X, Y) is greater than zero, then we can say that the covariance for any two variables is positive and both the variables move in the same direction.\n",
    "- If cov(X, Y) is less than zero, then we can say that the covariance for any two variables is negative and both the variables move in the opposite direction.\n",
    "- If cov(X, Y) is zero, then we can say that there is no relation between two variables.\n",
    "##### Cov(X,Y)= ∑(xi - xbar ) × (yi - ybar)/ (N - 1)"
   ]
  },
  {
   "cell_type": "markdown",
   "id": "2550e321-3891-40fa-8cd2-41ff2db1ef28",
   "metadata": {},
   "source": [
    "#### (4)-"
   ]
  },
  {
   "cell_type": "code",
   "execution_count": 10,
   "id": "eabf4a6b-f38e-4aee-9578-f4997980b859",
   "metadata": {},
   "outputs": [
    {
     "data": {
      "text/html": [
       "<div>\n",
       "<style scoped>\n",
       "    .dataframe tbody tr th:only-of-type {\n",
       "        vertical-align: middle;\n",
       "    }\n",
       "\n",
       "    .dataframe tbody tr th {\n",
       "        vertical-align: top;\n",
       "    }\n",
       "\n",
       "    .dataframe thead th {\n",
       "        text-align: right;\n",
       "    }\n",
       "</style>\n",
       "<table border=\"1\" class=\"dataframe\">\n",
       "  <thead>\n",
       "    <tr style=\"text-align: right;\">\n",
       "      <th></th>\n",
       "      <th>Color</th>\n",
       "      <th>Size</th>\n",
       "      <th>Material</th>\n",
       "    </tr>\n",
       "  </thead>\n",
       "  <tbody>\n",
       "    <tr>\n",
       "      <th>0</th>\n",
       "      <td>red</td>\n",
       "      <td>small</td>\n",
       "      <td>wood</td>\n",
       "    </tr>\n",
       "    <tr>\n",
       "      <th>1</th>\n",
       "      <td>green</td>\n",
       "      <td>medium</td>\n",
       "      <td>metal</td>\n",
       "    </tr>\n",
       "    <tr>\n",
       "      <th>2</th>\n",
       "      <td>blue</td>\n",
       "      <td>large</td>\n",
       "      <td>plastic</td>\n",
       "    </tr>\n",
       "  </tbody>\n",
       "</table>\n",
       "</div>"
      ],
      "text/plain": [
       "   Color    Size Material\n",
       "0    red   small     wood\n",
       "1  green  medium    metal\n",
       "2   blue   large  plastic"
      ]
     },
     "execution_count": 10,
     "metadata": {},
     "output_type": "execute_result"
    }
   ],
   "source": [
    "import pandas as pd\n",
    "df2= pd.DataFrame({\"Color\": [\"red\", \"green\", \"blue\"], \"Size\": [\"small\", \"medium\", \"large\"], \n",
    "                   \"Material\": [\"wood\", \"metal\", \"plastic\"]})\n",
    "df2"
   ]
  },
  {
   "cell_type": "code",
   "execution_count": 14,
   "id": "79acc1cf-0c1a-48cb-8c14-81f257e2c7b7",
   "metadata": {},
   "outputs": [
    {
     "name": "stderr",
     "output_type": "stream",
     "text": [
      "/opt/conda/lib/python3.10/site-packages/sklearn/preprocessing/_label.py:116: DataConversionWarning: A column-vector y was passed when a 1d array was expected. Please change the shape of y to (n_samples, ), for example using ravel().\n",
      "  y = column_or_1d(y, warn=True)\n"
     ]
    },
    {
     "data": {
      "text/plain": [
       "array([2, 1, 0])"
      ]
     },
     "execution_count": 14,
     "metadata": {},
     "output_type": "execute_result"
    }
   ],
   "source": [
    "# create instance of LabelEncoder-\n",
    "from sklearn.preprocessing import LabelEncoder\n",
    "lbl_encoder= LabelEncoder()\n",
    "\n",
    "#perform fit and transform-\n",
    "Color_encoded= lbl_encoder.fit_transform(df2[[\"Color\"]])\n",
    "Color_encoded"
   ]
  },
  {
   "cell_type": "code",
   "execution_count": 28,
   "id": "a878ffe3-2dc9-4b0b-a61d-a8f31270c397",
   "metadata": {},
   "outputs": [],
   "source": [
    "# so the colors are encoded alphabetically, blue-0, green=1, red=2"
   ]
  },
  {
   "cell_type": "code",
   "execution_count": 15,
   "id": "5614dbc2-40e8-449e-918a-b7f93b3e8fb0",
   "metadata": {},
   "outputs": [
    {
     "name": "stderr",
     "output_type": "stream",
     "text": [
      "/opt/conda/lib/python3.10/site-packages/sklearn/preprocessing/_label.py:116: DataConversionWarning: A column-vector y was passed when a 1d array was expected. Please change the shape of y to (n_samples, ), for example using ravel().\n",
      "  y = column_or_1d(y, warn=True)\n"
     ]
    },
    {
     "data": {
      "text/plain": [
       "array([2, 1, 0])"
      ]
     },
     "execution_count": 15,
     "metadata": {},
     "output_type": "execute_result"
    }
   ],
   "source": [
    "Size_encoded= lbl_encoder.fit_transform(df2[[\"Size\"]])\n",
    "Size_encoded"
   ]
  },
  {
   "cell_type": "code",
   "execution_count": 29,
   "id": "400d9424-fdf3-4902-9483-03a9eb68ed36",
   "metadata": {},
   "outputs": [],
   "source": [
    "# so the sizes are encoded alphabetically, large=0, medium=1, small= 2"
   ]
  },
  {
   "cell_type": "code",
   "execution_count": 16,
   "id": "f1d30307-0da4-4407-ba8b-2047da568b3c",
   "metadata": {},
   "outputs": [
    {
     "name": "stderr",
     "output_type": "stream",
     "text": [
      "/opt/conda/lib/python3.10/site-packages/sklearn/preprocessing/_label.py:116: DataConversionWarning: A column-vector y was passed when a 1d array was expected. Please change the shape of y to (n_samples, ), for example using ravel().\n",
      "  y = column_or_1d(y, warn=True)\n"
     ]
    },
    {
     "data": {
      "text/plain": [
       "array([2, 0, 1])"
      ]
     },
     "execution_count": 16,
     "metadata": {},
     "output_type": "execute_result"
    }
   ],
   "source": [
    "Material_encoded= lbl_encoder.fit_transform(df2[[\"Material\"]])\n",
    "Material_encoded"
   ]
  },
  {
   "cell_type": "code",
   "execution_count": 30,
   "id": "5d9492a4-bcbe-4dd1-a0b9-352a65d7211f",
   "metadata": {},
   "outputs": [],
   "source": [
    "# so the materials are encoded alphabetically, metal=0, plastic=1, wood=2"
   ]
  },
  {
   "cell_type": "markdown",
   "id": "1c3eb398-acb6-4cd4-8830-cda44e48d80c",
   "metadata": {},
   "source": [
    "#### (5)-"
   ]
  },
  {
   "cell_type": "code",
   "execution_count": 14,
   "id": "0b2bd64a-17a1-41ba-8387-4e278390d397",
   "metadata": {},
   "outputs": [
    {
     "data": {
      "text/html": [
       "<div>\n",
       "<style scoped>\n",
       "    .dataframe tbody tr th:only-of-type {\n",
       "        vertical-align: middle;\n",
       "    }\n",
       "\n",
       "    .dataframe tbody tr th {\n",
       "        vertical-align: top;\n",
       "    }\n",
       "\n",
       "    .dataframe thead th {\n",
       "        text-align: right;\n",
       "    }\n",
       "</style>\n",
       "<table border=\"1\" class=\"dataframe\">\n",
       "  <thead>\n",
       "    <tr style=\"text-align: right;\">\n",
       "      <th></th>\n",
       "      <th>age</th>\n",
       "      <th>income</th>\n",
       "      <th>education_level</th>\n",
       "    </tr>\n",
       "  </thead>\n",
       "  <tbody>\n",
       "    <tr>\n",
       "      <th>0</th>\n",
       "      <td>20</td>\n",
       "      <td>20000</td>\n",
       "      <td>B.Tech</td>\n",
       "    </tr>\n",
       "    <tr>\n",
       "      <th>1</th>\n",
       "      <td>25</td>\n",
       "      <td>50000</td>\n",
       "      <td>M.Tech</td>\n",
       "    </tr>\n",
       "    <tr>\n",
       "      <th>2</th>\n",
       "      <td>24</td>\n",
       "      <td>45000</td>\n",
       "      <td>M.Sc.</td>\n",
       "    </tr>\n",
       "    <tr>\n",
       "      <th>3</th>\n",
       "      <td>32</td>\n",
       "      <td>60000</td>\n",
       "      <td>B.Tech</td>\n",
       "    </tr>\n",
       "    <tr>\n",
       "      <th>4</th>\n",
       "      <td>40</td>\n",
       "      <td>70000</td>\n",
       "      <td>PhD</td>\n",
       "    </tr>\n",
       "    <tr>\n",
       "      <th>5</th>\n",
       "      <td>50</td>\n",
       "      <td>85000</td>\n",
       "      <td>B.Tech</td>\n",
       "    </tr>\n",
       "  </tbody>\n",
       "</table>\n",
       "</div>"
      ],
      "text/plain": [
       "   age  income education_level\n",
       "0   20   20000          B.Tech\n",
       "1   25   50000          M.Tech\n",
       "2   24   45000           M.Sc.\n",
       "3   32   60000          B.Tech\n",
       "4   40   70000             PhD\n",
       "5   50   85000          B.Tech"
      ]
     },
     "execution_count": 14,
     "metadata": {},
     "output_type": "execute_result"
    }
   ],
   "source": [
    "import numpy as np\n",
    "import pandas as pd\n",
    "import seaborn as sns\n",
    "import matplotlib.pyplot as plt\n",
    "\n",
    "age= [20, 25, 24, 32, 40, 50]\n",
    "income= [20000, 50000, 45000, 60000, 70000, 85000]\n",
    "education_level= [\"B.Tech\", \"M.Tech\", \"M.Sc.\", \"B.Tech\", \"PhD\", \"B.Tech\"]\n",
    "dict= {\"age\": age, \"income\": income, \"education_level\": education_level}\n",
    "df3= pd.DataFrame(dict)\n",
    "df3"
   ]
  },
  {
   "cell_type": "code",
   "execution_count": 15,
   "id": "ab6a2868-e87e-4947-bc08-c00153fcfdaa",
   "metadata": {},
   "outputs": [
    {
     "data": {
      "text/plain": [
       "array([[0.],\n",
       "       [2.],\n",
       "       [1.],\n",
       "       [0.],\n",
       "       [3.],\n",
       "       [0.]])"
      ]
     },
     "execution_count": 15,
     "metadata": {},
     "output_type": "execute_result"
    }
   ],
   "source": [
    "# first we convert the categorical variable to numerical-\n",
    "from sklearn.preprocessing import OrdinalEncoder\n",
    "ord_encoder= OrdinalEncoder(categories=[[\"B.Tech\", \"M.Sc.\", \"M.Tech\", \"PhD\"]])\n",
    "ed_level_encoded= ord_encoder.fit_transform(df3[[\"education_level\"]])\n",
    "ed_level_encoded"
   ]
  },
  {
   "cell_type": "code",
   "execution_count": 16,
   "id": "970a2e75-6686-4991-ae21-0c562673182b",
   "metadata": {},
   "outputs": [
    {
     "data": {
      "text/html": [
       "<div>\n",
       "<style scoped>\n",
       "    .dataframe tbody tr th:only-of-type {\n",
       "        vertical-align: middle;\n",
       "    }\n",
       "\n",
       "    .dataframe tbody tr th {\n",
       "        vertical-align: top;\n",
       "    }\n",
       "\n",
       "    .dataframe thead th {\n",
       "        text-align: right;\n",
       "    }\n",
       "</style>\n",
       "<table border=\"1\" class=\"dataframe\">\n",
       "  <thead>\n",
       "    <tr style=\"text-align: right;\">\n",
       "      <th></th>\n",
       "      <th>age</th>\n",
       "      <th>income</th>\n",
       "      <th>education_level</th>\n",
       "      <th>ed_level_encoded</th>\n",
       "    </tr>\n",
       "  </thead>\n",
       "  <tbody>\n",
       "    <tr>\n",
       "      <th>0</th>\n",
       "      <td>20</td>\n",
       "      <td>20000</td>\n",
       "      <td>B.Tech</td>\n",
       "      <td>0.0</td>\n",
       "    </tr>\n",
       "    <tr>\n",
       "      <th>1</th>\n",
       "      <td>25</td>\n",
       "      <td>50000</td>\n",
       "      <td>M.Tech</td>\n",
       "      <td>2.0</td>\n",
       "    </tr>\n",
       "    <tr>\n",
       "      <th>2</th>\n",
       "      <td>24</td>\n",
       "      <td>45000</td>\n",
       "      <td>M.Sc.</td>\n",
       "      <td>1.0</td>\n",
       "    </tr>\n",
       "    <tr>\n",
       "      <th>3</th>\n",
       "      <td>32</td>\n",
       "      <td>60000</td>\n",
       "      <td>B.Tech</td>\n",
       "      <td>0.0</td>\n",
       "    </tr>\n",
       "    <tr>\n",
       "      <th>4</th>\n",
       "      <td>40</td>\n",
       "      <td>70000</td>\n",
       "      <td>PhD</td>\n",
       "      <td>3.0</td>\n",
       "    </tr>\n",
       "    <tr>\n",
       "      <th>5</th>\n",
       "      <td>50</td>\n",
       "      <td>85000</td>\n",
       "      <td>B.Tech</td>\n",
       "      <td>0.0</td>\n",
       "    </tr>\n",
       "  </tbody>\n",
       "</table>\n",
       "</div>"
      ],
      "text/plain": [
       "   age  income education_level  ed_level_encoded\n",
       "0   20   20000          B.Tech               0.0\n",
       "1   25   50000          M.Tech               2.0\n",
       "2   24   45000           M.Sc.               1.0\n",
       "3   32   60000          B.Tech               0.0\n",
       "4   40   70000             PhD               3.0\n",
       "5   50   85000          B.Tech               0.0"
      ]
     },
     "execution_count": 16,
     "metadata": {},
     "output_type": "execute_result"
    }
   ],
   "source": [
    "ed_level_df= pd.DataFrame(ed_level_encoded, columns=[\"ed_level_encoded\"])\n",
    "df4= pd.concat([df3, ed_level_df], axis=1)\n",
    "df4"
   ]
  },
  {
   "cell_type": "code",
   "execution_count": 17,
   "id": "7dc8cd53-f085-41b1-8c15-53a0bb52f357",
   "metadata": {},
   "outputs": [
    {
     "data": {
      "text/html": [
       "<div>\n",
       "<style scoped>\n",
       "    .dataframe tbody tr th:only-of-type {\n",
       "        vertical-align: middle;\n",
       "    }\n",
       "\n",
       "    .dataframe tbody tr th {\n",
       "        vertical-align: top;\n",
       "    }\n",
       "\n",
       "    .dataframe thead th {\n",
       "        text-align: right;\n",
       "    }\n",
       "</style>\n",
       "<table border=\"1\" class=\"dataframe\">\n",
       "  <thead>\n",
       "    <tr style=\"text-align: right;\">\n",
       "      <th></th>\n",
       "      <th>age</th>\n",
       "      <th>income</th>\n",
       "      <th>ed_level_encoded</th>\n",
       "    </tr>\n",
       "  </thead>\n",
       "  <tbody>\n",
       "    <tr>\n",
       "      <th>0</th>\n",
       "      <td>20</td>\n",
       "      <td>20000</td>\n",
       "      <td>0.0</td>\n",
       "    </tr>\n",
       "    <tr>\n",
       "      <th>1</th>\n",
       "      <td>25</td>\n",
       "      <td>50000</td>\n",
       "      <td>2.0</td>\n",
       "    </tr>\n",
       "    <tr>\n",
       "      <th>2</th>\n",
       "      <td>24</td>\n",
       "      <td>45000</td>\n",
       "      <td>1.0</td>\n",
       "    </tr>\n",
       "    <tr>\n",
       "      <th>3</th>\n",
       "      <td>32</td>\n",
       "      <td>60000</td>\n",
       "      <td>0.0</td>\n",
       "    </tr>\n",
       "    <tr>\n",
       "      <th>4</th>\n",
       "      <td>40</td>\n",
       "      <td>70000</td>\n",
       "      <td>3.0</td>\n",
       "    </tr>\n",
       "    <tr>\n",
       "      <th>5</th>\n",
       "      <td>50</td>\n",
       "      <td>85000</td>\n",
       "      <td>0.0</td>\n",
       "    </tr>\n",
       "  </tbody>\n",
       "</table>\n",
       "</div>"
      ],
      "text/plain": [
       "   age  income  ed_level_encoded\n",
       "0   20   20000               0.0\n",
       "1   25   50000               2.0\n",
       "2   24   45000               1.0\n",
       "3   32   60000               0.0\n",
       "4   40   70000               3.0\n",
       "5   50   85000               0.0"
      ]
     },
     "execution_count": 17,
     "metadata": {},
     "output_type": "execute_result"
    }
   ],
   "source": [
    "df5= df4.drop(\"education_level\",axis=1)\n",
    "df5"
   ]
  },
  {
   "cell_type": "code",
   "execution_count": 22,
   "id": "78df7002-a7f1-4542-b2a6-71e0eececf75",
   "metadata": {},
   "outputs": [
    {
     "data": {
      "text/plain": [
       "array([[2.0e+01, 2.5e+01, 2.4e+01, 3.2e+01, 4.0e+01, 5.0e+01],\n",
       "       [2.0e+04, 5.0e+04, 4.5e+04, 6.0e+04, 7.0e+04, 8.5e+04],\n",
       "       [0.0e+00, 2.0e+00, 1.0e+00, 0.0e+00, 3.0e+00, 0.0e+00]])"
      ]
     },
     "execution_count": 22,
     "metadata": {},
     "output_type": "execute_result"
    }
   ],
   "source": [
    "data= np.array([df5[\"age\"], df5[\"income\"], df5[\"ed_level_encoded\"]])\n",
    "data"
   ]
  },
  {
   "cell_type": "code",
   "execution_count": 23,
   "id": "3ee533e9-7cca-4ad1-90b1-f7ad832d486b",
   "metadata": {},
   "outputs": [
    {
     "data": {
      "text/plain": [
       "array([[1.07472222e+02, 1.99166667e+05, 5.00000000e-01],\n",
       "       [1.99166667e+05, 4.16666667e+08, 4.16666667e+03],\n",
       "       [5.00000000e-01, 4.16666667e+03, 1.33333333e+00]])"
      ]
     },
     "execution_count": 23,
     "metadata": {},
     "output_type": "execute_result"
    }
   ],
   "source": [
    "# now we find the covariance matrix-\n",
    "cov_matrix= np.cov(data, bias=True)\n",
    "cov_matrix"
   ]
  },
  {
   "cell_type": "code",
   "execution_count": 26,
   "id": "85098c59-74a3-4d3a-b918-f5374bc06270",
   "metadata": {},
   "outputs": [
    {
     "data": {
      "image/png": "[encoded data removed]",
      "text/plain": [
       "<Figure size 640x480 with 2 Axes>"
      ]
     },
     "metadata": {},
     "output_type": "display_data"
    }
   ],
   "source": [
    "labs=[\"age\", \"income\", \"ed_level_encoded\"]\n",
    "sns.heatmap(cov_matrix, annot=True, fmt=\"g\", xticklabels= labs, yticklabels= labs, cmap='YlGnBu')\n",
    "plt.show()"
   ]
  },
  {
   "cell_type": "markdown",
   "id": "a493964f-4b6b-47fa-8b6d-c6d35e04f274",
   "metadata": {},
   "source": [
    "#### (6)-\n",
    "##### For the Gender categorical variable which has 2 unique categories- Male and Female, we will use One Hot Encoding because it will create 2 new columns for the 2 categories and assign them binary vectors. \n",
    "##### For the Educational level categorical variable which has 4 unique categories- High School, Bachelor's, Master's, PhD we will use Ordinal Encoding because these are ordinal type data and can be ranked, so High School will be assigned 0, Bachelor's will be assigned 1, Master's will be assigned 2 and PhD will be assigned 3.\n",
    "##### For Employment Status categorical variable which has 3 unique categories- Unemployed, Part-time, Full-time we will use ordinal encoding as these categories can be ranked, Unemployed is assigned 0, Part-time is assigned 1, Full-time is assigned 2. "
   ]
  },
  {
   "cell_type": "markdown",
   "id": "007c5e60-bb08-48af-bcd6-e54a8fd2efa5",
   "metadata": {},
   "source": [
    "#### (7)-"
   ]
  },
  {
   "cell_type": "code",
   "execution_count": 33,
   "id": "eef8663e-cfa0-4503-a83f-53f419710987",
   "metadata": {},
   "outputs": [
    {
     "data": {
      "text/html": [
       "<div>\n",
       "<style scoped>\n",
       "    .dataframe tbody tr th:only-of-type {\n",
       "        vertical-align: middle;\n",
       "    }\n",
       "\n",
       "    .dataframe tbody tr th {\n",
       "        vertical-align: top;\n",
       "    }\n",
       "\n",
       "    .dataframe thead th {\n",
       "        text-align: right;\n",
       "    }\n",
       "</style>\n",
       "<table border=\"1\" class=\"dataframe\">\n",
       "  <thead>\n",
       "    <tr style=\"text-align: right;\">\n",
       "      <th></th>\n",
       "      <th>temp</th>\n",
       "      <th>humidity</th>\n",
       "      <th>weather</th>\n",
       "      <th>wind_dir</th>\n",
       "    </tr>\n",
       "  </thead>\n",
       "  <tbody>\n",
       "    <tr>\n",
       "      <th>0</th>\n",
       "      <td>30.5</td>\n",
       "      <td>85</td>\n",
       "      <td>rainy</td>\n",
       "      <td>north</td>\n",
       "    </tr>\n",
       "    <tr>\n",
       "      <th>1</th>\n",
       "      <td>29.2</td>\n",
       "      <td>70</td>\n",
       "      <td>cloudy</td>\n",
       "      <td>south</td>\n",
       "    </tr>\n",
       "    <tr>\n",
       "      <th>2</th>\n",
       "      <td>45.3</td>\n",
       "      <td>50</td>\n",
       "      <td>sunny</td>\n",
       "      <td>west</td>\n",
       "    </tr>\n",
       "    <tr>\n",
       "      <th>3</th>\n",
       "      <td>40.9</td>\n",
       "      <td>68</td>\n",
       "      <td>sunny</td>\n",
       "      <td>east</td>\n",
       "    </tr>\n",
       "  </tbody>\n",
       "</table>\n",
       "</div>"
      ],
      "text/plain": [
       "   temp  humidity weather wind_dir\n",
       "0  30.5        85   rainy    north\n",
       "1  29.2        70  cloudy    south\n",
       "2  45.3        50   sunny     west\n",
       "3  40.9        68   sunny     east"
      ]
     },
     "execution_count": 33,
     "metadata": {},
     "output_type": "execute_result"
    }
   ],
   "source": [
    "import numpy as np\n",
    "import pandas as pd\n",
    "import seaborn as sns\n",
    "import matplotlib.pyplot as plt\n",
    "\n",
    "temperatue= [30.5, 29.2, 45.3, 40.9]\n",
    "humidity= [85, 70, 50, 68]\n",
    "weather_condition= [\"rainy\", \"cloudy\", \"sunny\", \"sunny\"]\n",
    "wind_direction= [\"north\", \"south\", \"west\", \"east\"]\n",
    "dict1= {\"temp\": temperatue, \"humidity\": humidity, \"weather\": weather_condition, \"wind_dir\": wind_direction}\n",
    "df6= pd.DataFrame(dict1)\n",
    "df6"
   ]
  },
  {
   "cell_type": "code",
   "execution_count": 34,
   "id": "864d3453-b1cc-4765-abc3-3c380e05a449",
   "metadata": {},
   "outputs": [
    {
     "data": {
      "text/plain": [
       "weather\n",
       "cloudy    29.2\n",
       "rainy     30.5\n",
       "sunny     43.1\n",
       "Name: temp, dtype: float64"
      ]
     },
     "execution_count": 34,
     "metadata": {},
     "output_type": "execute_result"
    }
   ],
   "source": [
    "# encoding weather using target guided ordinal encoding-\n",
    "df6.groupby(\"weather\")[\"temp\"].mean()"
   ]
  },
  {
   "cell_type": "code",
   "execution_count": 35,
   "id": "9141ff45-ac30-48e6-89c9-15a65d04341b",
   "metadata": {},
   "outputs": [
    {
     "data": {
      "text/plain": [
       "{'cloudy': 29.2, 'rainy': 30.5, 'sunny': 43.099999999999994}"
      ]
     },
     "execution_count": 35,
     "metadata": {},
     "output_type": "execute_result"
    }
   ],
   "source": [
    "mean_val= df6.groupby(\"weather\")[\"temp\"].mean().to_dict()\n",
    "mean_val"
   ]
  },
  {
   "cell_type": "code",
   "execution_count": 37,
   "id": "0101b9b8-d566-468e-b304-6fdb17daba17",
   "metadata": {},
   "outputs": [
    {
     "data": {
      "text/html": [
       "<div>\n",
       "<style scoped>\n",
       "    .dataframe tbody tr th:only-of-type {\n",
       "        vertical-align: middle;\n",
       "    }\n",
       "\n",
       "    .dataframe tbody tr th {\n",
       "        vertical-align: top;\n",
       "    }\n",
       "\n",
       "    .dataframe thead th {\n",
       "        text-align: right;\n",
       "    }\n",
       "</style>\n",
       "<table border=\"1\" class=\"dataframe\">\n",
       "  <thead>\n",
       "    <tr style=\"text-align: right;\">\n",
       "      <th></th>\n",
       "      <th>temp</th>\n",
       "      <th>humidity</th>\n",
       "      <th>wind_dir</th>\n",
       "      <th>weather_encoded</th>\n",
       "    </tr>\n",
       "  </thead>\n",
       "  <tbody>\n",
       "    <tr>\n",
       "      <th>0</th>\n",
       "      <td>30.5</td>\n",
       "      <td>85</td>\n",
       "      <td>north</td>\n",
       "      <td>30.5</td>\n",
       "    </tr>\n",
       "    <tr>\n",
       "      <th>1</th>\n",
       "      <td>29.2</td>\n",
       "      <td>70</td>\n",
       "      <td>south</td>\n",
       "      <td>29.2</td>\n",
       "    </tr>\n",
       "    <tr>\n",
       "      <th>2</th>\n",
       "      <td>45.3</td>\n",
       "      <td>50</td>\n",
       "      <td>west</td>\n",
       "      <td>43.1</td>\n",
       "    </tr>\n",
       "    <tr>\n",
       "      <th>3</th>\n",
       "      <td>40.9</td>\n",
       "      <td>68</td>\n",
       "      <td>east</td>\n",
       "      <td>43.1</td>\n",
       "    </tr>\n",
       "  </tbody>\n",
       "</table>\n",
       "</div>"
      ],
      "text/plain": [
       "   temp  humidity wind_dir  weather_encoded\n",
       "0  30.5        85    north             30.5\n",
       "1  29.2        70    south             29.2\n",
       "2  45.3        50     west             43.1\n",
       "3  40.9        68     east             43.1"
      ]
     },
     "execution_count": 37,
     "metadata": {},
     "output_type": "execute_result"
    }
   ],
   "source": [
    "df6[\"weather_encoded\"]= df6[\"weather\"].map(mean_val)\n",
    "df7= df6.drop(\"weather\", axis=1)\n",
    "df7"
   ]
  },
  {
   "cell_type": "code",
   "execution_count": 39,
   "id": "73379069-ba52-4d5e-8000-cae12f59538f",
   "metadata": {},
   "outputs": [
    {
     "name": "stderr",
     "output_type": "stream",
     "text": [
      "/opt/conda/lib/python3.10/site-packages/sklearn/preprocessing/_label.py:116: DataConversionWarning: A column-vector y was passed when a 1d array was expected. Please change the shape of y to (n_samples, ), for example using ravel().\n",
      "  y = column_or_1d(y, warn=True)\n"
     ]
    },
    {
     "data": {
      "text/plain": [
       "array([1, 2, 3, 0])"
      ]
     },
     "execution_count": 39,
     "metadata": {},
     "output_type": "execute_result"
    }
   ],
   "source": [
    "# encoding wind_dir using Label encoding-\n",
    "from sklearn.preprocessing import LabelEncoder\n",
    "lbl_encoder= LabelEncoder()\n",
    "wind_encoded= lbl_encoder.fit_transform(df7[[\"wind_dir\"]])\n",
    "wind_encoded"
   ]
  },
  {
   "cell_type": "code",
   "execution_count": 41,
   "id": "13a97ea3-fce9-45c1-9480-4e1b958bdd40",
   "metadata": {},
   "outputs": [
    {
     "data": {
      "text/html": [
       "<div>\n",
       "<style scoped>\n",
       "    .dataframe tbody tr th:only-of-type {\n",
       "        vertical-align: middle;\n",
       "    }\n",
       "\n",
       "    .dataframe tbody tr th {\n",
       "        vertical-align: top;\n",
       "    }\n",
       "\n",
       "    .dataframe thead th {\n",
       "        text-align: right;\n",
       "    }\n",
       "</style>\n",
       "<table border=\"1\" class=\"dataframe\">\n",
       "  <thead>\n",
       "    <tr style=\"text-align: right;\">\n",
       "      <th></th>\n",
       "      <th>temp</th>\n",
       "      <th>humidity</th>\n",
       "      <th>weather_encoded</th>\n",
       "      <th>wind_dir_encoded</th>\n",
       "    </tr>\n",
       "  </thead>\n",
       "  <tbody>\n",
       "    <tr>\n",
       "      <th>0</th>\n",
       "      <td>30.5</td>\n",
       "      <td>85</td>\n",
       "      <td>30.5</td>\n",
       "      <td>1</td>\n",
       "    </tr>\n",
       "    <tr>\n",
       "      <th>1</th>\n",
       "      <td>29.2</td>\n",
       "      <td>70</td>\n",
       "      <td>29.2</td>\n",
       "      <td>2</td>\n",
       "    </tr>\n",
       "    <tr>\n",
       "      <th>2</th>\n",
       "      <td>45.3</td>\n",
       "      <td>50</td>\n",
       "      <td>43.1</td>\n",
       "      <td>3</td>\n",
       "    </tr>\n",
       "    <tr>\n",
       "      <th>3</th>\n",
       "      <td>40.9</td>\n",
       "      <td>68</td>\n",
       "      <td>43.1</td>\n",
       "      <td>0</td>\n",
       "    </tr>\n",
       "  </tbody>\n",
       "</table>\n",
       "</div>"
      ],
      "text/plain": [
       "   temp  humidity  weather_encoded  wind_dir_encoded\n",
       "0  30.5        85             30.5                 1\n",
       "1  29.2        70             29.2                 2\n",
       "2  45.3        50             43.1                 3\n",
       "3  40.9        68             43.1                 0"
      ]
     },
     "execution_count": 41,
     "metadata": {},
     "output_type": "execute_result"
    }
   ],
   "source": [
    "wind_encoded_df= pd.DataFrame(wind_encoded, columns=[\"wind_dir_encoded\"])\n",
    "df8= pd.concat([df7, wind_encoded_df], axis=1).drop(\"wind_dir\", axis=1)\n",
    "df8"
   ]
  },
  {
   "cell_type": "code",
   "execution_count": 42,
   "id": "7976512d-a650-4c59-93de-dd53f9768542",
   "metadata": {},
   "outputs": [
    {
     "data": {
      "text/plain": [
       "array([[30.5, 29.2, 45.3, 40.9],\n",
       "       [85. , 70. , 50. , 68. ],\n",
       "       [30.5, 29.2, 43.1, 43.1],\n",
       "       [ 1. ,  2. ,  3. ,  0. ]])"
      ]
     },
     "execution_count": 42,
     "metadata": {},
     "output_type": "execute_result"
    }
   ],
   "source": [
    "data1= np.array([df8[\"temp\"], df8[\"humidity\"], df8[\"weather_encoded\"], df8[\"wind_dir_encoded\"]])\n",
    "data1"
   ]
  },
  {
   "cell_type": "code",
   "execution_count": 44,
   "id": "eb3e3d2b-e87f-4b4d-930e-dd9d086dd881",
   "metadata": {},
   "outputs": [
    {
     "data": {
      "text/plain": [
       "array([[ 46.521875, -68.74375 ,  44.101875,   1.4875  ],\n",
       "       [-68.74375 , 154.1875  , -58.84375 ,  -8.625   ],\n",
       "       [ 44.101875, -58.84375 ,  44.101875,  -0.1625  ],\n",
       "       [  1.4875  ,  -8.625   ,  -0.1625  ,   1.25    ]])"
      ]
     },
     "execution_count": 44,
     "metadata": {},
     "output_type": "execute_result"
    }
   ],
   "source": [
    "# now we find covariance matrix-\n",
    "cov_matrix1= np.cov(data1, bias=True)\n",
    "cov_matrix1"
   ]
  },
  {
   "cell_type": "code",
   "execution_count": 45,
   "id": "5e6ab081-6e8b-4af5-bcbb-53e125dc0fd4",
   "metadata": {},
   "outputs": [
    {
     "data": {
      "image/png": "[encoded data removed]",
      "text/plain": [
       "<Figure size 640x480 with 2 Axes>"
      ]
     },
     "metadata": {},
     "output_type": "display_data"
    }
   ],
   "source": [
    "labs=[\"temp\", \"humidity\", \"weather_encoded\", \"wind_dir_encoded\"]\n",
    "sns.heatmap(cov_matrix1, annot=True, fmt=\"g\", xticklabels= labs, yticklabels= labs, cmap='YlGnBu')\n",
    "plt.show()"
   ]
  },
  {
   "cell_type": "code",
   "execution_count": null,
   "id": "ba457809-1c80-46ce-a4ee-7093796e0e9e",
   "metadata": {},
   "outputs": [],
   "source": []
  }
 ],
 "metadata": {
  "kernelspec": {
   "display_name": "Python 3 (ipykernel)",
   "language": "python",
   "name": "python3"
  },
  "language_info": {
   "codemirror_mode": {
    "name": "ipython",
    "version": 3
   },
   "file_extension": ".py",
   "mimetype": "text/x-python",
   "name": "python",
   "nbconvert_exporter": "python",
   "pygments_lexer": "ipython3",
   "version": "3.10.8"
  }
 },
 "nbformat": 4,
 "nbformat_minor": 5
}
